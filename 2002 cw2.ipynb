{
 "cells": [
  {
   "cell_type": "markdown",
   "id": "42b8ac66",
   "metadata": {},
   "source": [
    "## Importing necessary modules"
   ]
  },
  {
   "cell_type": "code",
   "execution_count": 64,
   "id": "35432b72",
   "metadata": {},
   "outputs": [],
   "source": [
    "from sklearn import preprocessing\n",
    "import numpy as np\n",
    "from sklearn.model_selection import train_test_split\n",
    "import pandas as pd\n",
    "from sklearn.preprocessing import MinMaxScaler\n",
    "from sklearn.decomposition import PCA\n",
    "from sklearn.metrics import mean_squared_error"
   ]
  },
  {
   "cell_type": "markdown",
   "id": "df2a69c8",
   "metadata": {},
   "source": [
    "## Import data as pandas dataframe"
   ]
  },
  {
   "cell_type": "code",
   "execution_count": 65,
   "id": "6d327ab4",
   "metadata": {},
   "outputs": [],
   "source": [
    "data = pd.read_csv(\"data.csv\")"
   ]
  },
  {
   "cell_type": "markdown",
   "id": "344a3ec7",
   "metadata": {},
   "source": [
    "## Splitting data and normalising data after splitting"
   ]
  },
  {
   "cell_type": "code",
   "execution_count": 66,
   "id": "fb8a9950",
   "metadata": {},
   "outputs": [],
   "source": [
    "y = data[['Y1','Y2']]\n",
    "X =  data[['X1','X2','X3','X4','X5','X6','X7','X8']]\n",
    "y = np.array(y)\n",
    "X = np.array(X)\n",
    "\n"
   ]
  },
  {
   "cell_type": "code",
   "execution_count": 67,
   "id": "279e1425",
   "metadata": {},
   "outputs": [],
   "source": [
    "X_train, X_test, y_train, y_test = train_test_split(X, y, test_size=0.2)\n",
    "scaler = MinMaxScaler()\n",
    "normalisedX_train = scaler.fit_transform(X_train)\n",
    "normalisedX_test = scaler.fit_transform(X_test)"
   ]
  },
  {
   "cell_type": "markdown",
   "id": "594014c3",
   "metadata": {},
   "source": [
    "## Regression function"
   ]
  },
  {
   "cell_type": "code",
   "execution_count": 68,
   "id": "6f3f878c",
   "metadata": {},
   "outputs": [],
   "source": [
    "def regressor(model,x_train,y_train,x_test,y_test):\n",
    "    model.fit(x_train,y_train)\n",
    "    outputs = model.predict(x_test)\n",
    "    return mean_squared_error(outputs,y_test)"
   ]
  },
  {
   "cell_type": "markdown",
   "id": "1f8dbb6e",
   "metadata": {},
   "source": [
    "## Neural Network Regression"
   ]
  },
  {
   "cell_type": "code",
   "execution_count": 69,
   "id": "62ab4440",
   "metadata": {},
   "outputs": [
    {
     "name": "stdout",
     "output_type": "stream",
     "text": [
      "10.324876097531902\n"
     ]
    }
   ],
   "source": [
    "from sklearn.neural_network import MLPRegressor\n",
    "\n",
    "MLP = MLPRegressor(max_iter=10000)\n",
    "print(regressor(MLP,normalisedX_train,y_train,normalisedX_test,y_test))"
   ]
  },
  {
   "cell_type": "markdown",
   "id": "0dfe1b22",
   "metadata": {},
   "source": [
    "## Random Forest Regression"
   ]
  },
  {
   "cell_type": "code",
   "execution_count": 70,
   "id": "b9cf5c9f",
   "metadata": {},
   "outputs": [
    {
     "name": "stdout",
     "output_type": "stream",
     "text": [
      "2.0715639090909144\n"
     ]
    }
   ],
   "source": [
    "from sklearn.ensemble import RandomForestRegressor\n",
    "\n",
    "RFR = RandomForestRegressor()\n",
    "print(regressor(RFR,normalisedX_train,y_train,normalisedX_test,y_test))"
   ]
  },
  {
   "cell_type": "markdown",
   "id": "84a3f0fb",
   "metadata": {},
   "source": [
    "## SVM Regression"
   ]
  },
  {
   "cell_type": "code",
   "execution_count": 71,
   "id": "314ad6a1",
   "metadata": {},
   "outputs": [
    {
     "name": "stdout",
     "output_type": "stream",
     "text": [
      "8.504729910815652\n",
      "14.415513857421846\n"
     ]
    }
   ],
   "source": [
    "from sklearn.svm import SVR\n",
    "\n",
    "ytrain1,ytrain2=np.split(y_train,2,axis=1)\n",
    "ytest1,ytest2=np.split(y_test,2,axis=1)\n",
    "\n",
    "ytrain1 = ytrain1.flatten()\n",
    "ytrain2 = ytrain2.flatten()\n",
    "ytest1 = ytest1.flatten()\n",
    "ytest2 = ytest2.flatten()\n",
    "\n",
    "\n",
    "SVR1 = SVR()\n",
    "print(regressor(SVR1,normalisedX_train,ytrain1,normalisedX_test,ytest1))\n",
    "\n",
    "SVR2 = SVR()\n",
    "print(regressor(SVR2,normalisedX_train,ytrain2,normalisedX_test,ytest2))"
   ]
  },
  {
   "cell_type": "markdown",
   "id": "26ccf047",
   "metadata": {},
   "source": [
    "## Cross Validation"
   ]
  },
  {
   "cell_type": "code",
   "execution_count": 72,
   "id": "b54c3ac7",
   "metadata": {},
   "outputs": [
    {
     "name": "stdout",
     "output_type": "stream",
     "text": [
      "Random forest values are: [-10.23951144  -2.31207814  -1.51835618  -2.23648824  -2.52669106]\n",
      "Neural Network values are: [-11.63293261  -9.61325679  -5.11536483  -8.3739203   -7.0016948 ]\n",
      "Support Vector Machine values for y1 are: [-11.55157989  -7.44591161  -5.53531637  -5.28080389  -6.97393723]\n",
      "Support Vector Machine values for y2 are: [-10.9200483  -10.60668932  -8.70812916  -9.49556164  -8.47711567]\n"
     ]
    }
   ],
   "source": [
    "from sklearn.model_selection import cross_val_score\n",
    "\n",
    "X = scaler.fit_transform(X)\n",
    "RFRvalues = cross_val_score(RFR, X, y, cv=5, scoring='neg_mean_squared_error')\n",
    "MLPvalues = cross_val_score(MLP, X, y, cv=5, scoring='neg_mean_squared_error')\n",
    "\n",
    "y1,y2=np.split(y,2,axis=1)\n",
    "SVMvaluesY1 = cross_val_score(MLP, X, y1.flatten(), cv=5, scoring='neg_mean_squared_error')\n",
    "SVMvaluesY2 = cross_val_score(MLP, X, y2.flatten(), cv=5, scoring='neg_mean_squared_error')\n",
    "\n",
    "\n",
    "print(\"Random forest values are:\",RFRvalues)\n",
    "print(\"Neural Network values are:\",MLPvalues)\n",
    "print(\"Support Vector Machine values for y1 are:\",SVMvaluesY1)\n",
    "print(\"Support Vector Machine values for y2 are:\",SVMvaluesY2)\n"
   ]
  },
  {
   "cell_type": "code",
   "execution_count": 73,
   "id": "f88154e8",
   "metadata": {},
   "outputs": [
    {
     "name": "stdout",
     "output_type": "stream",
     "text": [
      "Random forest mean: -3.7666250131131016\n",
      "Neural Network mean: -8.347433867222282\n",
      "Support Vector Machine values mean: -7.357509800810954\n",
      "Support Vector Machine values mean: -9.641508820031216\n"
     ]
    }
   ],
   "source": [
    "print(\"Random forest mean:\",RFRvalues.mean())\n",
    "print(\"Neural Network mean:\",MLPvalues.mean())\n",
    "print(\"Support Vector Machine values mean:\",SVMvaluesY1.mean())\n",
    "print(\"Support Vector Machine values mean:\",SVMvaluesY2.mean())"
   ]
  },
  {
   "cell_type": "markdown",
   "id": "a3a37811",
   "metadata": {},
   "source": [
    "## KFold "
   ]
  },
  {
   "cell_type": "code",
   "execution_count": 74,
   "id": "c8438027",
   "metadata": {},
   "outputs": [
    {
     "name": "stdout",
     "output_type": "stream",
     "text": [
      "Random forest values are: [1.447013123441557, 1.6594315740909085, 1.6991209703896186, 2.0369087556535885, 2.205296934117647]\n",
      "Neural Network values are: [7.096557384370879, 6.375449521353525, 7.686284018584752, 8.135937573747636, 5.924770908785142]\n",
      "Support Vector Machine values for y1 are: [7.762967785789221, 7.53251878907466, 8.36644555775056, 9.957125148285282, 6.088576926687808]\n",
      "Support Vector Machine values for y2 are: [8.860262283180703, 7.969576037525045, 12.10326599168046, 13.157286152808897, 8.596092059312433]\n"
     ]
    }
   ],
   "source": [
    "from sklearn.model_selection import KFold\n",
    "\n",
    "kf5 = KFold(n_splits=5,random_state = 4, shuffle=True)\n",
    "MLP = MLPRegressor(max_iter=5000)\n",
    "RFR = RandomForestRegressor()\n",
    "SVR1 = SVR()\n",
    "SVR2= SVR()\n",
    "\n",
    "RFRvalues = []\n",
    "MLPvalues = []\n",
    "SVMvaluesY1 = []\n",
    "SVMvaluesY2 = []\n",
    "\n",
    "\n",
    "for train_index, test_index in kf5.split(X):\n",
    "    \n",
    "    X_train, X_test, y_train, y_test = X[train_index], X[test_index],y[train_index], y[test_index]\n",
    "    \n",
    "    \n",
    "\n",
    "    normalisedX_train = scaler.fit_transform(X_train)\n",
    "    normalisedX_test = scaler.fit_transform(X_test)\n",
    "\n",
    "    MLPvalues.append(regressor(MLP,normalisedX_train,y_train,normalisedX_test,y_test))\n",
    "    RFRvalues.append(regressor(RFR,normalisedX_train,y_train,normalisedX_test,y_test))\n",
    "    \n",
    "    ytrain1,ytrain2=np.split(y_train,2,axis=1)\n",
    "    ytest1,ytest2=np.split(y_test,2,axis=1)\n",
    "\n",
    "    ytrain1 = ytrain1.flatten()\n",
    "    ytrain2 = ytrain2.flatten()\n",
    "    ytest1 = ytest1.flatten()\n",
    "    ytest2 = ytest2.flatten()\n",
    "    \n",
    "    SVMvaluesY1.append(regressor(SVR1,normalisedX_train,ytrain1,normalisedX_test,ytest1))\n",
    "    SVMvaluesY2.append(regressor(SVR2,normalisedX_train,ytrain2,normalisedX_test,ytest2))\n",
    "    \n",
    "    \n",
    "print(\"Random forest values are:\",RFRvalues)\n",
    "print(\"Neural Network values are:\",MLPvalues)\n",
    "print(\"Support Vector Machine values for y1 are:\",SVMvaluesY1)\n",
    "print(\"Support Vector Machine values for y2 are:\",SVMvaluesY2)\n"
   ]
  },
  {
   "cell_type": "code",
   "execution_count": 75,
   "id": "f7eb7d3c",
   "metadata": {
    "scrolled": true
   },
   "outputs": [
    {
     "name": "stdout",
     "output_type": "stream",
     "text": [
      "Random forest mean: 1.8095542715386634\n",
      "Neural Network mean: 7.043799881368386\n",
      "Support Vector Machine values for y1 mean: 7.941526841517506\n",
      "Support Vector Machine values for y2 mean: 10.137296504901506\n"
     ]
    }
   ],
   "source": [
    "print(\"Random forest mean:\",sum(RFRvalues)/len(RFRvalues))\n",
    "print(\"Neural Network mean:\",sum(MLPvalues)/len(MLPvalues))\n",
    "print(\"Support Vector Machine values for y1 mean:\",sum(SVMvaluesY1)/len(SVMvaluesY1))\n",
    "print(\"Support Vector Machine values for y2 mean:\",sum(SVMvaluesY2)/len(SVMvaluesY2))"
   ]
  }
 ],
 "metadata": {
  "kernelspec": {
   "display_name": "Python 3 (ipykernel)",
   "language": "python",
   "name": "python3"
  },
  "language_info": {
   "codemirror_mode": {
    "name": "ipython",
    "version": 3
   },
   "file_extension": ".py",
   "mimetype": "text/x-python",
   "name": "python",
   "nbconvert_exporter": "python",
   "pygments_lexer": "ipython3",
   "version": "3.9.7"
  }
 },
 "nbformat": 4,
 "nbformat_minor": 5
}
