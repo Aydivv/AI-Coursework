{
 "cells": [
  {
   "cell_type": "code",
   "execution_count": 54,
   "id": "ad9780c1",
   "metadata": {},
   "outputs": [],
   "source": [
    "import numpy as np\n",
    "import random"
   ]
  },
  {
   "cell_type": "code",
   "execution_count": 55,
   "id": "a0133a58",
   "metadata": {},
   "outputs": [],
   "source": [
    "class Module():\n",
    "    def __init__(self,module):\n",
    "        module = module.split('|')\n",
    "        self.name = module[0]\n",
    "        self.staff = module[1]\n",
    "        self.labs = module[2]\n",
    "        self.constraints = module[3].split(',')\n",
    "        \n",
    "    def isin(self,mod):\n",
    "        p\n",
    "\n",
    "f = open('Modules.txt','r')\n",
    "modules = []\n",
    "line = f.readline()\n",
    "while line:\n",
    "    modules.append(Module(line))\n",
    "    line = f.readline()\n",
    "f.close()"
   ]
  },
  {
   "cell_type": "code",
   "execution_count": 119,
   "id": "39e93932",
   "metadata": {
    "scrolled": true
   },
   "outputs": [
    {
     "data": {
      "text/plain": [
       "array([[<__main__.Module object at 0x7f9628aa9b20>,\n",
       "        <__main__.Module object at 0x7f9628aa9700>,\n",
       "        <__main__.Module object at 0x7f9628aa9b20>],\n",
       "       [<__main__.Module object at 0x7f9628aa9b80>,\n",
       "        <__main__.Module object at 0x7f9628aa92b0>,\n",
       "        <__main__.Module object at 0x7f9628aa9c10>],\n",
       "       [<__main__.Module object at 0x7f9628aa90d0>,\n",
       "        <__main__.Module object at 0x7f9628aa9bb0>,\n",
       "        <__main__.Module object at 0x7f96326e6850>],\n",
       "       [<__main__.Module object at 0x7f9628b3cbe0>,\n",
       "        <__main__.Module object at 0x7f9628aa9bb0>,\n",
       "        <__main__.Module object at 0x7f9628aa9b80>],\n",
       "       [<__main__.Module object at 0x7f9628aa9c10>,\n",
       "        <__main__.Module object at 0x7f9628b3cbe0>,\n",
       "        <__main__.Module object at 0x7f9628aa9c10>],\n",
       "       [<__main__.Module object at 0x7f9628aa9bb0>,\n",
       "        <__main__.Module object at 0x7f9628aa94c0>,\n",
       "        <__main__.Module object at 0x7f9628aa90d0>],\n",
       "       [<__main__.Module object at 0x7f9628b3cbe0>,\n",
       "        <__main__.Module object at 0x7f9628b3cbe0>,\n",
       "        <__main__.Module object at 0x7f9628b3cbe0>],\n",
       "       [<__main__.Module object at 0x7f9628b3cbe0>,\n",
       "        <__main__.Module object at 0x7f9628aa94c0>,\n",
       "        <__main__.Module object at 0x7f9628aa9fa0>],\n",
       "       [<__main__.Module object at 0x7f9628b3cbe0>,\n",
       "        <__main__.Module object at 0x7f9628aa94c0>,\n",
       "        <__main__.Module object at 0x7f9628aa91c0>],\n",
       "       [<__main__.Module object at 0x7f9628b3cbe0>,\n",
       "        <__main__.Module object at 0x7f9628aa9d60>,\n",
       "        <__main__.Module object at 0x7f9628aa9700>],\n",
       "       [<__main__.Module object at 0x7f9628aa9d60>,\n",
       "        <__main__.Module object at 0x7f96326e6850>,\n",
       "        <__main__.Module object at 0x7f9628b3cbe0>],\n",
       "       [<__main__.Module object at 0x7f9628aa9d60>,\n",
       "        <__main__.Module object at 0x7f9628aa9fa0>,\n",
       "        <__main__.Module object at 0x7f9628aa9ac0>],\n",
       "       [<__main__.Module object at 0x7f9628aa91c0>,\n",
       "        <__main__.Module object at 0x7f96326e6850>,\n",
       "        <__main__.Module object at 0x7f9628aa9f70>],\n",
       "       [<__main__.Module object at 0x7f9628b3cbe0>,\n",
       "        <__main__.Module object at 0x7f9628aa9f70>,\n",
       "        <__main__.Module object at 0x7f9628aa9040>],\n",
       "       [<__main__.Module object at 0x7f9628b3cbe0>,\n",
       "        <__main__.Module object at 0x7f9628aa9b20>,\n",
       "        <__main__.Module object at 0x7f9628aa9700>],\n",
       "       [<__main__.Module object at 0x7f9628aa98e0>,\n",
       "        <__main__.Module object at 0x7f9628aa9bb0>,\n",
       "        <__main__.Module object at 0x7f9628aa9ac0>],\n",
       "       [<__main__.Module object at 0x7f9628b3cbe0>,\n",
       "        <__main__.Module object at 0x7f9628aa98e0>,\n",
       "        <__main__.Module object at 0x7f9628aa90d0>],\n",
       "       [<__main__.Module object at 0x7f9628aa9fa0>,\n",
       "        <__main__.Module object at 0x7f9628aa9160>,\n",
       "        <__main__.Module object at 0x7f9628aa9040>],\n",
       "       [<__main__.Module object at 0x7f9628aa9d60>,\n",
       "        <__main__.Module object at 0x7f9628aa98e0>,\n",
       "        <__main__.Module object at 0x7f9628aa9040>],\n",
       "       [<__main__.Module object at 0x7f9628aa92b0>,\n",
       "        <__main__.Module object at 0x7f9628aa9160>,\n",
       "        <__main__.Module object at 0x7f9628aa92b0>]], dtype=object)"
      ]
     },
     "execution_count": 119,
     "metadata": {},
     "output_type": "execute_result"
    }
   ],
   "source": [
    "timetable = np.full((20,3),Module(\"None|None|None|None,None\"),dtype=Module)\n",
    "\n",
    "totalmodules = modules\n",
    "for i in modules:\n",
    "    totalmodules = totalmodules + ([i]*int(i.labs))\n",
    "k = 0\n",
    "for i in range(len(timetable)):\n",
    "    for j in range(len(timetable[i])):\n",
    "        timetable[i][j] = totalmodules[k]\n",
    "        k = k+1\n",
    "        if k>=len(totalmodules):\n",
    "            break\n",
    "    if k>=len(totalmodules):\n",
    "            break\n",
    "            \n",
    "\n",
    "timetable = timetable.flatten()\n",
    "np.random.shuffle(timetable)\n",
    "timetable = np.reshape(timetable,(20,3))\n",
    "\n",
    "timetable"
   ]
  },
  {
   "cell_type": "code",
   "execution_count": null,
   "id": "dc1c5101",
   "metadata": {},
   "outputs": [],
   "source": [
    "def generate_random_timetable():\n",
    "    timetable = timetable.flatten()\n",
    "    np.random.shuffle(timetable)\n",
    "    timetable = np.reshape(timetable,(20,3))\n",
    "    return timetable\n",
    "\n",
    "def "
   ]
  },
  {
   "cell_type": "code",
   "execution_count": 118,
   "id": "65f0d1fa",
   "metadata": {},
   "outputs": [
    {
     "name": "stdout",
     "output_type": "stream",
     "text": [
      "490\n"
     ]
    }
   ],
   "source": [
    "def checkConcurrence(li):\n",
    "    count = 0\n",
    "    #Checks if module is against another module that clashes.\n",
    "    if li[0].name in li[1].constraints or li[0].name in li[2].constraints:\n",
    "        count = count + 1\n",
    "    if li[1].name in li[2].constraints or li[1].name in li[0].constraints:\n",
    "        count = count + 1\n",
    "    if li[2].name in li[0].constraints or li[2].name in li[1].constraints:\n",
    "        count = count + 1\n",
    "    \n",
    "    #Checks if one module is being held at the same time in different rooms.\n",
    "    if li[0].name==li[1].name:\n",
    "        count = count + 1\n",
    "    if li[1].name==li[2].name:\n",
    "        count = count + 1\n",
    "    if li[2].name==li[0].name:\n",
    "        count = count + 1\n",
    "    \n",
    "    return count\n",
    "\n",
    "def checkPrecedence(li):\n",
    "    count = 0\n",
    "    for i in range(len(li)):\n",
    "        lecture = li[i][0].name\n",
    "        if lecture == None:\n",
    "            continue\n",
    "        for j in range(0,i):\n",
    "            if lecture == li[j][1].name:\n",
    "                count = count + 1\n",
    "            if lecture == li[j][2].name:\n",
    "                count = count + 1\n",
    "    return count\n",
    "\n",
    "\n",
    "def fitness(timetable):\n",
    "    precedence = checkPrecedence(timetable)\n",
    "    \n",
    "    concurrence = 0\n",
    "    for i in timetable:\n",
    "        concurrence = concurrence + checkConcurrence(i)\n",
    "    \n",
    "    return precedence * concurrence\n",
    "        \n",
    "print(fitness(timetable))"
   ]
  },
  {
   "cell_type": "code",
   "execution_count": null,
   "id": "ad43f27e",
   "metadata": {},
   "outputs": [],
   "source": [
    "def hillclimber(Niter, problem, D, generate, mutation, comparison):\n",
    "    #comparison is to compare fitness\n",
    "    #problem is fitness\n",
    "    parent = generate(D)\n",
    "    parent_fitness = problem(parent)\n",
    "    \n",
    "    for i in range(Niter):\n",
    "        #Mutate\n",
    "        child = mutation(parent)\n",
    "        \n",
    "        #Evaluate\n",
    "        \n",
    "        \\\\\n",
    "        #Pick next parent solution\n",
    "    "
   ]
  }
 ],
 "metadata": {
  "kernelspec": {
   "display_name": "Python 3.9.7 ('AI')",
   "language": "python",
   "name": "python397jvsc74a57bd0137683caa416907d30bcde365237c7da4a153fd9d138b420acf67aa8422ad597"
  },
  "language_info": {
   "codemirror_mode": {
    "name": "ipython",
    "version": 3
   },
   "file_extension": ".py",
   "mimetype": "text/x-python",
   "name": "python",
   "nbconvert_exporter": "python",
   "pygments_lexer": "ipython3",
   "version": "3.9.7"
  }
 },
 "nbformat": 4,
 "nbformat_minor": 5
}
