{
 "cells": [
  {
   "cell_type": "code",
   "execution_count": 197,
   "id": "bbfbbe46",
   "metadata": {},
   "outputs": [],
   "source": [
    "import numpy as np\n",
    "import random"
   ]
  },
  {
   "cell_type": "code",
   "execution_count": 198,
   "id": "a0133a58",
   "metadata": {},
   "outputs": [],
   "source": [
    "class Module():\n",
    "    def __init__(self,module):\n",
    "        module = module.split('|')\n",
    "        self.name = module[0]\n",
    "        self.staff = module[1]\n",
    "        self.labs = module[2]\n",
    "        self.constraints = module[3].split(',')\n",
    "        \n",
    "    def isin(self,mod):\n",
    "        p\n",
    "\n",
    "f = open('Modules.txt','r')\n",
    "modules = []\n",
    "line = f.readline()\n",
    "while line:\n",
    "    modules.append(Module(line))\n",
    "    line = f.readline()\n",
    "f.close()"
   ]
  },
  {
   "cell_type": "code",
   "execution_count": 199,
   "id": "5c48a419",
   "metadata": {},
   "outputs": [],
   "source": [
    "def generate_random_timetable(modules):\n",
    "    timetable = np.full((20,3),Module(\"None|None|None|None,None\"),dtype=Module)\n",
    "    totalmodules = modules\n",
    "    \n",
    "    for i in modules:\n",
    "        totalmodules = totalmodules + ([i]*int(i.labs))\n",
    "        \n",
    "    k = 0\n",
    "    for i in range(len(timetable)):\n",
    "        for j in range(len(timetable[i])):\n",
    "            timetable[i][j] = totalmodules[k]\n",
    "            k = k+1\n",
    "            if k>=len(totalmodules):\n",
    "                break\n",
    "        if k>=len(totalmodules):\n",
    "                break\n",
    "                \n",
    "    timetable = timetable.flatten()\n",
    "    np.random.shuffle(timetable)\n",
    "    timetable = np.reshape(timetable,(20,3))\n",
    "    return timetable\n",
    "\n"
   ]
  },
  {
   "cell_type": "code",
   "execution_count": 200,
   "id": "223d93ac",
   "metadata": {},
   "outputs": [
    {
     "name": "stdout",
     "output_type": "stream",
     "text": [
      "817\n"
     ]
    }
   ],
   "source": [
    "def checkConcurrence(li):\n",
    "    count = 0\n",
    "    #Checks if module is against another module that clashes.\n",
    "    if li[0].name in li[1].constraints or li[0].name in li[2].constraints:\n",
    "        count = count + 1\n",
    "    if li[1].name in li[2].constraints or li[1].name in li[0].constraints:\n",
    "        count = count + 1\n",
    "    if li[2].name in li[0].constraints or li[2].name in li[1].constraints:\n",
    "        count = count + 1\n",
    "    \n",
    "    #Checks if one module is being held at the same time in different rooms.\n",
    "    if li[0].name==li[1].name:\n",
    "        count = count + 1\n",
    "    if li[1].name==li[2].name:\n",
    "        count = count + 1\n",
    "    if li[2].name==li[0].name:\n",
    "        count = count + 1\n",
    "    \n",
    "    return count\n",
    "\n",
    "def checkPrecedence(li):\n",
    "    count = 0\n",
    "    for i in range(len(li)):\n",
    "        lecture = li[i][0].name\n",
    "        if lecture == None:\n",
    "            continue\n",
    "        for j in range(0,i):\n",
    "            if lecture == li[j][1].name:\n",
    "                count = count + 1\n",
    "            if lecture == li[j][2].name:\n",
    "                count = count + 1\n",
    "    return count\n",
    "\n",
    "\n",
    "def fitness(timetable):\n",
    "    precedence = checkPrecedence(timetable)\n",
    "    \n",
    "    concurrence = 0\n",
    "    for i in timetable:\n",
    "        concurrence = concurrence + checkConcurrence(i)\n",
    "    \n",
    "    return precedence * concurrence\n",
    "        \n",
    "timetable = generate_random_timetable(modules)\n",
    "print(fitness(timetable))"
   ]
  },
  {
   "cell_type": "code",
   "execution_count": 224,
   "id": "ee4fa8aa",
   "metadata": {},
   "outputs": [],
   "source": [
    "def compare_fitness(child,parent):\n",
    "    return child<=parent"
   ]
  },
  {
   "cell_type": "code",
   "execution_count": 202,
   "id": "351b15e6",
   "metadata": {},
   "outputs": [],
   "source": [
    "def ruin_and_recreate(timetable):\n",
    "    timetable = generate_random_timetable(modules)\n",
    "    return timetable"
   ]
  },
  {
   "cell_type": "code",
   "execution_count": 203,
   "id": "d75a9b31",
   "metadata": {},
   "outputs": [],
   "source": [
    "def session_replace(timetable):\n",
    "    row = np.random.randint(0,20,2)\n",
    "    col = np.random.randint(0,3,2)\n",
    "    t = timetable[row[0]][col[0]]\n",
    "    timetable[row[0]][col[0]] = timetable[row[1]][col[1]]\n",
    "    timetable[row[1]][col[1]] = t\n",
    "    return timetable"
   ]
  },
  {
   "cell_type": "code",
   "execution_count": 261,
   "id": "a4cae1b9",
   "metadata": {},
   "outputs": [
    {
     "name": "stdout",
     "output_type": "stream",
     "text": [
      "[1271, 1209, 1170, 1092, 1053, 984, 960, 960, 960, 960, 902, 902, 902, 902, 902, 902, 902, 902, 902, 902, 902, 902, 902, 902, 902, 902, 902, 902, 902, 902, 902, 902, 902, 902, 902, 902, 902, 902, 902, 902, 882, 882, 882, 882, 882, 882, 882, 882, 882, 882, 882, 882, 882, 882, 882, 882, 882, 882, 882, 882, 882, 882, 882, 882, 882, 882, 882, 882, 882, 882, 882, 882, 882, 882, 882, 882, 882, 882, 882, 882, 882, 882, 882, 882, 882, 882, 882, 882, 882, 882, 882, 882, 882, 882, 882, 882, 882, 882, 882, 882, 882, 860, 860, 860, 860, 860, 860, 860, 860, 860, 860, 858, 814, 814, 814, 720, 720, 720, 720, 720, 561, 561, 561, 561, 561, 561, 561, 561, 561, 561, 561, 561, 561, 561, 561, 561, 561, 561, 561, 561, 561, 561, 561, 561, 561, 561, 561, 561, 561, 561, 561, 561, 561, 561, 561, 561, 561, 561, 561, 561, 561, 561, 561, 561, 561, 561, 561, 561, 561, 561, 561, 561, 561, 561, 561, 561, 561, 561, 561, 561, 561, 561, 561, 561, 561, 561, 561, 561, 561, 561, 561, 561, 561, 561, 561, 561, 561, 561, 561, 561, 561, 561, 561, 561, 561, 561, 561, 561, 561, 561, 561, 561, 561, 561, 561, 561, 561, 561, 561, 561, 561, 561, 561, 561, 561, 561, 561, 561, 561, 561, 561, 561, 561, 561, 561, 561, 561, 561, 561, 561, 561, 561, 561, 561, 561, 561, 561, 561, 561, 561, 561, 561, 561, 561, 561, 561, 561, 561, 561, 561, 561, 561, 561, 561, 561, 561, 561, 561, 561, 561, 561, 561, 561, 561, 561, 561, 561, 561, 561, 561, 561, 561, 561, 561, 561, 561, 561, 561, 561, 561, 561, 561, 561, 561, 561, 561, 561, 561, 561, 561, 561, 561, 561, 561, 561, 561, 561, 561, 561, 561, 561, 561, 561, 561, 561, 561, 561, 561, 561, 561, 561, 561, 561, 440, 440, 430, 430, 430, 430, 430, 430, 423, 423, 423, 423, 387, 387, 387, 387, 333, 333, 333, 333, 333, 333, 333, 333, 333, 333, 333, 333, 333, 333, 333, 333, 333, 333, 333, 333, 333, 333, 333, 333, 333, 333, 333, 333, 333, 333, 333, 333, 333, 333, 333, 333, 333, 333, 333, 333, 333, 333, 333, 333, 333, 333, 333, 333, 333, 333, 333, 333, 333, 333, 333, 333, 333, 333, 333, 333, 333, 333, 333, 333, 333, 333, 333, 333, 333, 333, 333, 333, 333, 333, 333, 333, 333, 333, 333, 333, 333, 333, 333, 333, 333, 333, 333, 333, 333, 333, 333, 333, 333, 333, 333, 333, 333, 333, 333, 333, 333, 333, 333, 333, 333, 333, 333, 333, 333, 333, 333, 333, 333, 333, 333, 333, 333, 333, 333, 333, 333, 320, 312, 312, 312, 312, 312, 312, 312, 312, 312, 312, 312, 312, 312, 312, 312, 312, 312, 312, 312, 312, 312, 312, 312, 312, 312, 312, 312, 312, 312, 312, 312, 312, 312, 312, 312, 312, 312, 312, 312, 312]\n"
     ]
    }
   ],
   "source": [
    "def hillclimber(Niter, problem, D, generate, mutation, comparison):\n",
    "    #comparison is to compare fitness\n",
    "    #problem is fitness\n",
    "    parent = generate(D)\n",
    "    parent_fitness = problem(parent)\n",
    "    fitness_list = [parent_fitness]\n",
    "    \n",
    "    for i in range(Niter):\n",
    "        #Mutate\n",
    "        child = mutation(parent)\n",
    "        \n",
    "        #Evaluate\n",
    "        child_fitness = problem(child)\n",
    "        \n",
    "        #Pick next parent solution\n",
    "        if comparison(child_fitness,parent_fitness):\n",
    "            parent = child\n",
    "            parent_fitness = child_fitness\n",
    "            fitness_list.append(child_fitness)\n",
    "        else:\n",
    "            fitness_list.append(parent_fitness)\n",
    "            \n",
    "    return parent, fitness_list\n",
    "\n",
    "optimised_timetable, fitnesslist = hillclimber(500,fitness,modules,generate_random_timetable,session_replace,compare_fitness)\n",
    "\n",
    "print(fitnesslist)\n",
    "\n",
    "# for i in optimised_timetable:\n",
    "#     for j in i:\n",
    "#         print(j.name)\n",
    "#     print(\"===\")"
   ]
  }
 ],
 "metadata": {
  "kernelspec": {
   "display_name": "Python 3.9.7 ('AI')",
   "language": "python",
   "name": "python397jvsc74a57bd0137683caa416907d30bcde365237c7da4a153fd9d138b420acf67aa8422ad597"
  },
  "language_info": {
   "codemirror_mode": {
    "name": "ipython",
    "version": 3
   },
   "file_extension": ".py",
   "mimetype": "text/x-python",
   "name": "python",
   "nbconvert_exporter": "python",
   "pygments_lexer": "ipython3",
   "version": "3.9.7"
  }
 },
 "nbformat": 4,
 "nbformat_minor": 5
}
