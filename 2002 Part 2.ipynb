{
 "cells": [
  {
   "cell_type": "code",
   "execution_count": 54,
   "id": "6ab66b6c",
   "metadata": {},
   "outputs": [],
   "source": [
    "import numpy as np\n",
    "import random"
   ]
  },
  {
   "cell_type": "code",
   "execution_count": 55,
   "id": "a0133a58",
   "metadata": {},
   "outputs": [],
   "source": [
    "class Module():\n",
    "    def __init__(self,module):\n",
    "        module = module.split('|')\n",
    "        self.name = module[0]\n",
    "        self.staff = module[1]\n",
    "        self.labs = module[2]\n",
    "        self.constraints = module[3].split(',')\n",
    "        \n",
    "    def sessionsPerWeek(self):\n",
    "        pass\n",
    "\n",
    "f = open('Modules.txt','r')\n",
    "modules = []\n",
    "line = f.readline()\n",
    "while line:\n",
    "    modules.append(Module(line))\n",
    "    line = f.readline()\n",
    "f.close()"
   ]
  },
  {
   "cell_type": "code",
   "execution_count": 73,
   "id": "91a1e71f",
   "metadata": {
    "scrolled": true
   },
   "outputs": [
    {
     "data": {
      "text/plain": [
       "array([[None, <__main__.Module object at 0x7f9628aa9040>,\n",
       "        <__main__.Module object at 0x7f9628aa9d60>],\n",
       "       [<__main__.Module object at 0x7f9628aa92b0>,\n",
       "        <__main__.Module object at 0x7f96326e6850>, None],\n",
       "       [<__main__.Module object at 0x7f9628aa9ac0>,\n",
       "        <__main__.Module object at 0x7f9628aa9bb0>,\n",
       "        <__main__.Module object at 0x7f9628aa94c0>],\n",
       "       [None, <__main__.Module object at 0x7f9628aa9bb0>,\n",
       "        <__main__.Module object at 0x7f9628aa9b20>],\n",
       "       [<__main__.Module object at 0x7f9628aa9700>,\n",
       "        <__main__.Module object at 0x7f9628aa94c0>,\n",
       "        <__main__.Module object at 0x7f9628aa9700>],\n",
       "       [None, None, <__main__.Module object at 0x7f9628aa9c10>],\n",
       "       [<__main__.Module object at 0x7f9628aa98e0>,\n",
       "        <__main__.Module object at 0x7f9628aa9bb0>,\n",
       "        <__main__.Module object at 0x7f9628aa9040>],\n",
       "       [<__main__.Module object at 0x7f9628aa9c10>, None,\n",
       "        <__main__.Module object at 0x7f9628aa91c0>],\n",
       "       [<__main__.Module object at 0x7f9628aa9d60>,\n",
       "        <__main__.Module object at 0x7f9628aa94c0>,\n",
       "        <__main__.Module object at 0x7f9628aa9700>],\n",
       "       [<__main__.Module object at 0x7f9628aa9fa0>,\n",
       "        <__main__.Module object at 0x7f9628aa98e0>, None],\n",
       "       [None, <__main__.Module object at 0x7f9628aa90d0>,\n",
       "        <__main__.Module object at 0x7f96326e6850>],\n",
       "       [<__main__.Module object at 0x7f9628aa9040>, None,\n",
       "        <__main__.Module object at 0x7f9628aa9b80>],\n",
       "       [<__main__.Module object at 0x7f9628aa90d0>,\n",
       "        <__main__.Module object at 0x7f9628aa9160>,\n",
       "        <__main__.Module object at 0x7f9628aa9ac0>],\n",
       "       [<__main__.Module object at 0x7f9628aa9fa0>,\n",
       "        <__main__.Module object at 0x7f9628aa9c10>, None],\n",
       "       [<__main__.Module object at 0x7f9628aa9b80>,\n",
       "        <__main__.Module object at 0x7f9628aa9d60>,\n",
       "        <__main__.Module object at 0x7f9628aa9fa0>],\n",
       "       [<__main__.Module object at 0x7f9628aa9160>,\n",
       "        <__main__.Module object at 0x7f9628aa91c0>,\n",
       "        <__main__.Module object at 0x7f9628aa92b0>],\n",
       "       [<__main__.Module object at 0x7f9628aa98e0>,\n",
       "        <__main__.Module object at 0x7f9628aa9bb0>,\n",
       "        <__main__.Module object at 0x7f9628aa9f70>],\n",
       "       [<__main__.Module object at 0x7f96326e6850>,\n",
       "        <__main__.Module object at 0x7f9628aa9b20>,\n",
       "        <__main__.Module object at 0x7f9628aa9d60>],\n",
       "       [None, <__main__.Module object at 0x7f9628aa9f70>,\n",
       "        <__main__.Module object at 0x7f9628aa92b0>],\n",
       "       [<__main__.Module object at 0x7f9628aa9b20>, None,\n",
       "        <__main__.Module object at 0x7f9628aa90d0>]], dtype=object)"
      ]
     },
     "execution_count": 73,
     "metadata": {},
     "output_type": "execute_result"
    }
   ],
   "source": [
    "timetable = np.empty((20,3),dtype=Module)\n",
    "\n",
    "\n",
    "\n",
    "totalmodules = modules\n",
    "for i in modules:\n",
    "    totalmodules = totalmodules + ([i]*int(i.labs))\n",
    "k = 0\n",
    "for i in range(len(timetable)):\n",
    "    for j in range(len(timetable[i])):\n",
    "        timetable[i][j] = totalmodules[k]\n",
    "        k = k+1\n",
    "        if k>=len(totalmodules):\n",
    "            break\n",
    "    if k>=len(totalmodules):\n",
    "            break\n",
    "            \n",
    "\n",
    "timetable = timetable.flatten()\n",
    "np.random.shuffle(timetable)\n",
    "timetable = np.reshape(timetable,(20,3))\n",
    "\n",
    "timetable\n",
    "# random.shuffle(timetable)\n",
    "# for i in range(len(timetable)):\n",
    "#     random.shuffle(timetable[i])\n",
    "\n"
   ]
  },
  {
   "cell_type": "code",
   "execution_count": null,
   "id": "a33cdbe3",
   "metadata": {},
   "outputs": [],
   "source": []
  }
 ],
 "metadata": {
  "kernelspec": {
   "display_name": "Python 3.9.7 ('AI')",
   "language": "python",
   "name": "python397jvsc74a57bd0137683caa416907d30bcde365237c7da4a153fd9d138b420acf67aa8422ad597"
  },
  "language_info": {
   "codemirror_mode": {
    "name": "ipython",
    "version": 3
   },
   "file_extension": ".py",
   "mimetype": "text/x-python",
   "name": "python",
   "nbconvert_exporter": "python",
   "pygments_lexer": "ipython3",
   "version": "3.9.7"
  }
 },
 "nbformat": 4,
 "nbformat_minor": 5
}
