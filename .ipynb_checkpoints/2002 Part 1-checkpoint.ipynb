{
 "cells": [
  {
   "cell_type": "markdown",
   "id": "42b8ac66",
   "metadata": {},
   "source": [
    "## Importing necessary modules"
   ]
  },
  {
   "cell_type": "code",
   "execution_count": 26,
   "id": "35432b72",
   "metadata": {},
   "outputs": [],
   "source": [
    "import numpy as np\n",
    "import pandas as pd\n",
    "from matplotlib import pyplot as plt"
   ]
  },
  {
   "cell_type": "markdown",
   "id": "df2a69c8",
   "metadata": {},
   "source": [
    "## Import data as a pandas dataframe and shuffling it"
   ]
  },
  {
   "cell_type": "code",
   "execution_count": 27,
   "id": "6d327ab4",
   "metadata": {},
   "outputs": [],
   "source": [
    "data = pd.read_csv(\"data.csv\")\n",
    "data = data.sample(frac=1)"
   ]
  },
  {
   "cell_type": "markdown",
   "id": "344a3ec7",
   "metadata": {},
   "source": [
    "## Preparing data\n",
    "1. Data is split into inputs(X) and targets(y) and converted into numpy arrays.\n",
    "2. Inputs are normalised\n",
    "3. Data is split into training set and testing set."
   ]
  },
  {
   "cell_type": "code",
   "execution_count": 28,
   "id": "fb8a9950",
   "metadata": {},
   "outputs": [],
   "source": [
    "#Splitting data into inputs and targets\n",
    "y = data[['Y1','Y2']]\n",
    "X =  data[['X1','X2','X3','X4','X5','X6','X7','X8']]\n",
    "y = np.array(y)\n",
    "X = np.array(X)\n",
    "\n",
    "#Normalising inputs\n",
    "from sklearn.preprocessing import MinMaxScaler\n",
    "\n",
    "scaler = MinMaxScaler()\n",
    "X = scaler.fit_transform(X)\n",
    "\n",
    "#Split into training and testing data\n",
    "from sklearn.model_selection import train_test_split\n",
    "\n",
    "X_train, X_test, y_train, y_test = train_test_split(X, y, test_size=0.2)"
   ]
  },
  {
   "cell_type": "markdown",
   "id": "5f2422ad",
   "metadata": {},
   "source": [
    "PCA was not used on this dataset for the following reasons:\n",
    "1. There is no intention to plot the data, thus removing the need to reduce the dimensions to something we can understand.\n",
    "2. Dataset is small and easy to compute, thus again not requiring PCA.\n",
    "3. When PCA was used the models performed very poorly, the MSE was more than double the current values for all models. "
   ]
  },
  {
   "cell_type": "markdown",
   "id": "594014c3",
   "metadata": {},
   "source": [
    "## Regression function\n",
    "Function that takes a model, training and testing data, trains the model and uses it to predict training and testing values and returns both in am array."
   ]
  },
  {
   "cell_type": "code",
   "execution_count": 29,
   "id": "6f3f878c",
   "metadata": {},
   "outputs": [],
   "source": [
    "from sklearn.metrics import mean_squared_error\n",
    "\n",
    "def regressor(model,x_train,y_train,x_test,y_test):\n",
    "    model.fit(x_train,y_train)\n",
    "    testoutputs = model.predict(x_test)\n",
    "    trainoutputs = model.predict(x_train)\n",
    "    return [mean_squared_error(testoutputs,y_test),mean_squared_error(trainoutputs,y_train)]"
   ]
  },
  {
   "cell_type": "markdown",
   "id": "1f8dbb6e",
   "metadata": {},
   "source": [
    "## Neural Network Regression\n"
   ]
  },
  {
   "cell_type": "code",
   "execution_count": 30,
   "id": "62ab4440",
   "metadata": {},
   "outputs": [
    {
     "name": "stdout",
     "output_type": "stream",
     "text": [
      "Neural Network MSE with testing data:  7.257697740880271\n",
      "Neural Network MSE with training value:  6.878229421289715\n"
     ]
    }
   ],
   "source": [
    "from sklearn.neural_network import MLPRegressor\n",
    "\n",
    "MLP = MLPRegressor(max_iter=5000)\n",
    "result = regressor(MLP,X_train,y_train,X_test,y_test)\n",
    "print(\"Neural Network MSE with testing data: \",result[0])\n",
    "print(\"Neural Network MSE with training value: \",result[1])"
   ]
  },
  {
   "cell_type": "markdown",
   "id": "0dfe1b22",
   "metadata": {},
   "source": [
    "## Random Forest Regression"
   ]
  },
  {
   "cell_type": "code",
   "execution_count": 31,
   "id": "b9cf5c9f",
   "metadata": {},
   "outputs": [
    {
     "name": "stdout",
     "output_type": "stream",
     "text": [
      "Random Forest MSE with testing data:  1.7847153679870076\n",
      "Random Forest MSE with training value:  0.2786407714820837\n"
     ]
    }
   ],
   "source": [
    "from sklearn.ensemble import RandomForestRegressor\n",
    "\n",
    "RFR = RandomForestRegressor()\n",
    "result = regressor(RFR,X_train,y_train,X_test,y_test)\n",
    "print(\"Random Forest MSE with testing data: \",result[0])\n",
    "print(\"Random Forest MSE with training value: \",result[1])"
   ]
  },
  {
   "cell_type": "markdown",
   "id": "84a3f0fb",
   "metadata": {},
   "source": [
    "## SVM Regression"
   ]
  },
  {
   "cell_type": "code",
   "execution_count": 32,
   "id": "74d6d551",
   "metadata": {},
   "outputs": [
    {
     "name": "stdout",
     "output_type": "stream",
     "text": [
      "Support Vector Machine MSE with testing data:  8.778116328441493\n",
      "Support Vector Machine MSE with training value:  8.537717523942229\n"
     ]
    }
   ],
   "source": [
    "from sklearn.svm import SVR\n",
    "from sklearn.multioutput import MultiOutputRegressor\n",
    "\n",
    "SVR = MultiOutputRegressor(SVR())\n",
    "\n",
    "result = regressor(SVR,X_train,y_train,X_test,y_test)\n",
    "print(\"Support Vector Machine MSE with testing data: \",result[0])\n",
    "print(\"Support Vector Machine MSE with training value: \",result[1])"
   ]
  },
  {
   "cell_type": "markdown",
   "id": "a3a37811",
   "metadata": {},
   "source": [
    "## KFold Cross Validation"
   ]
  },
  {
   "cell_type": "code",
   "execution_count": 55,
   "id": "c8438027",
   "metadata": {},
   "outputs": [],
   "source": [
    "from sklearn.model_selection import KFold\n",
    "\n",
    "kf5 = KFold(n_splits=5 , random_state = 4, shuffle=True)\n",
    "\n",
    "RFRvalues = MLPvalues = SVMvalues = np.empty((0,2))\n",
    "\n",
    "for train_index, test_index in kf5.split(X):\n",
    "    \n",
    "    X_train, X_test, y_train, y_test = X[train_index], X[test_index],y[train_index], y[test_index]\n",
    "\n",
    "    MLPvalues = np.append(MLPvalues, [regressor(MLP,X_train,y_train,X_test,y_test)], axis = 0)\n",
    "    RFRvalues = np.append(RFRvalues, [regressor(RFR,X_train,y_train,X_test,y_test)], axis = 0)\n",
    "    SVMvalues = np.append(SVMvalues, [regressor(SVR,X_train,y_train,X_test,y_test)], axis = 0)\n",
    "    \n"
   ]
  },
  {
   "cell_type": "markdown",
   "id": "6492fdf5",
   "metadata": {},
   "source": [
    "## Visualising the data using a boxplot"
   ]
  },
  {
   "cell_type": "code",
   "execution_count": 54,
   "id": "0b735a6c",
   "metadata": {},
   "outputs": [
    {
     "data": {
      "image/png": "[encoded data removed]",
      "text/plain": [
       "<Figure size 720x720 with 1 Axes>"
      ]
     },
     "metadata": {
      "needs_background": "light"
     },
     "output_type": "display_data"
    }
   ],
   "source": [
    "data = {'Random Forest Testing': RFRvalues[:,0],'Random Forest Training': RFRvalues[:,1], 'Neural Network Testing': MLPvalues[:,0], 'Neural Network Training': MLPvalues[:,1], 'SVM Testing':SVMvalues[:,0], 'SVM Training':SVMvalues[:,1]}\n",
    "\n",
    "fig, ax = plt.subplots()\n",
    "\n",
    "plt.rcParams[\"figure.figsize\"] = [10, 10]\n",
    "plt.rcParams[\"figure.autolayout\"] = True\n",
    "plt.title(\"MSE of models using Training and Testing data\")\n",
    "\n",
    "ax.boxplot(data.values())\n",
    "ax.set_xticklabels(data.keys(),rotation=45)\n",
    "ax.set_ylabel('MSE')\n",
    "ax.set_xlabel('Model Name')\n",
    "\n",
    "plt.show()\n",
    "    "
   ]
  }
 ],
 "metadata": {
  "kernelspec": {
   "display_name": "Python 3 (ipykernel)",
   "language": "python",
   "name": "python3"
  },
  "language_info": {
   "codemirror_mode": {
    "name": "ipython",
    "version": 3
   },
   "file_extension": ".py",
   "mimetype": "text/x-python",
   "name": "python",
   "nbconvert_exporter": "python",
   "pygments_lexer": "ipython3",
   "version": "3.9.7"
  }
 },
 "nbformat": 4,
 "nbformat_minor": 5
}
