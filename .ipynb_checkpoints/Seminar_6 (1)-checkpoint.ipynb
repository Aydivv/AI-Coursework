{
 "cells": [
  {
   "cell_type": "code",
   "execution_count": null,
   "metadata": {
    "id": "SyBwFxijitoE"
   },
   "outputs": [],
   "source": [
    "import numpy as np\n",
    "import matplotlib.pyplot as plt\n"
   ]
  },
  {
   "cell_type": "code",
   "execution_count": null,
   "metadata": {
    "id": "sDRsNgOtgzCU"
   },
   "outputs": [],
   "source": [
    "def onemax(x):\n",
    "  return x.sum()"
   ]
  },
  {
   "cell_type": "code",
   "execution_count": null,
   "metadata": {
    "colab": {
     "base_uri": "https://localhost:8080/"
    },
    "id": "FHQjKX8EiIQk",
    "outputId": "00eadfe6-72d6-45fd-aa0d-a91bed8d613e"
   },
   "outputs": [
    {
     "name": "stdout",
     "output_type": "stream",
     "text": [
      "[ 6  3  0 10  2  1  8  7  7  8] + 52\n",
      "[ 2  5  0  9  1  7  6  4  3 10] + 47\n",
      "[6 7 9 9 8 5 8 6 1 1] + 60\n",
      "[5 3 6 3 4 0 3 6 9 3] + 42\n",
      "[ 2  2 10 10  6 10  7  8  6  5] + 66\n"
     ]
    }
   ],
   "source": [
    "def generate_binary(D):\n",
    "  ## Generate a array of D bits\n",
    "  return np.random.randint(0, 11, D)\n",
    "\n",
    "for i in range(5):\n",
    "  x = generate_binary(10)\n",
    "  y = onemax(x)\n",
    "\n",
    "  print(f\"{x} + {y}\")\n"
   ]
  },
  {
   "cell_type": "code",
   "execution_count": null,
   "metadata": {
    "id": "Etu7rN9Tkcc7"
   },
   "outputs": [],
   "source": [
    "def binary_mutation(parent):\n",
    "  idx = np.random.randint(parent.shape[0])\n",
    "\n",
    "  child = parent.copy()\n",
    "  child[idx] = abs(parent[idx] - 1)\n",
    "\n",
    "  return child"
   ]
  },
  {
   "cell_type": "code",
   "execution_count": null,
   "metadata": {
    "id": "jyPYxwWTk86w"
   },
   "outputs": [],
   "source": [
    "def greater_than_equal(a, b):\n",
    "  return a >= b"
   ]
  },
  {
   "cell_type": "code",
   "execution_count": null,
   "metadata": {
    "id": "dwaWy0xQiyd8"
   },
   "outputs": [],
   "source": [
    "def hillclimber(Niter, problem, D, generate_binary, mutation, comparsion):\n",
    "  parent = generate_binary(D)\n",
    "  parent_fitness = problem(parent)\n",
    "\n",
    "  for iter in range(Niter):\n",
    "    child = mutation(parent)\n",
    "\n",
    "\n",
    "  child_fitness = problem(child)\n",
    "\n",
    "  if comparsion(child_fitness, parent_fitness):\n",
    "    parent = child\n",
    "    parent_fitness = child_fitness\n",
    "\n",
    "  return parent, parent_fitness"
   ]
  },
  {
   "cell_type": "code",
   "execution_count": null,
   "metadata": {
    "colab": {
     "base_uri": "https://localhost:8080/"
    },
    "id": "7OJeb3jRlUBR",
    "outputId": "1cf47d94-ffcb-45e9-f4b6-fda60e9b5638"
   },
   "outputs": [
    {
     "name": "stdout",
     "output_type": "stream",
     "text": [
      "Best Solution: [ 1  0  1  6 10  7  0  9  4  3], fitness: 41\n"
     ]
    }
   ],
   "source": [
    "x, y = hillclimber(30, onemax, 10, generate_binary, binary_mutation, greater_than_equal)\n",
    "print(f\"Best Solution: {x}, fitness: {y}\")"
   ]
  },
  {
   "cell_type": "code",
   "execution_count": null,
   "metadata": {
    "id": "-XH_hXgXl8AH"
   },
   "outputs": [],
   "source": [
    "def sphere(x):\n",
    "  return (x**2).sum()"
   ]
  },
  {
   "cell_type": "code",
   "execution_count": null,
   "metadata": {
    "id": "GcEP1ofzmbV4"
   },
   "outputs": [],
   "source": [
    "def generate_continuous(D):\n",
    "\n",
    "  return np.random.randint(-3, 3, D)\n",
    "    \n",
    "    \n",
    "  for i in range(5):\n",
    "    x = generate_continuous(3)\n",
    "    y = sphere(x)\n",
    "    print(f\"Solution {x}, fitness {y}\")"
   ]
  },
  {
   "cell_type": "code",
   "execution_count": null,
   "metadata": {
    "id": "JG2fCQZ9mzsX"
   },
   "outputs": [],
   "source": [
    "def additive_gaussian(parent):\n",
    "  z = np.random.randn() * 0.1\n",
    "  idx = np.random.randint(parent.shape[0])\n",
    "  child = parent.copy()\n",
    "  child[idx] = parent[idx] + z\n",
    "  return child"
   ]
  },
  {
   "cell_type": "code",
   "execution_count": null,
   "metadata": {
    "id": "_1ocv4PunZei"
   },
   "outputs": [],
   "source": [
    "def less_than_equal(a, b):\n",
    "  return a <= b "
   ]
  },
  {
   "cell_type": "code",
   "execution_count": null,
   "metadata": {
    "colab": {
     "base_uri": "https://localhost:8080/"
    },
    "id": "OyW7XB5lnfvi",
    "outputId": "62295d52-f45f-4424-a1c6-401cbf0100b8"
   },
   "outputs": [
    {
     "name": "stdout",
     "output_type": "stream",
     "text": [
      "Solution x: [ 1  2  1  0 -2  2  0 -2  2  2], fitness 26\n"
     ]
    }
   ],
   "source": [
    "x, y = hillclimber(3000, sphere, 10, generate_continuous, additive_gaussian, less_than_equal)\n",
    "print(f\"Solution x: {x}, fitness {y}\")"
   ]
  }
 ],
 "metadata": {
  "colab": {
   "name": "Seminar 6.ipynb",
   "provenance": []
  },
  "kernelspec": {
   "display_name": "Python 3 (ipykernel)",
   "language": "python",
   "name": "python3"
  },
  "language_info": {
   "codemirror_mode": {
    "name": "ipython",
    "version": 3
   },
   "file_extension": ".py",
   "mimetype": "text/x-python",
   "name": "python",
   "nbconvert_exporter": "python",
   "pygments_lexer": "ipython3",
   "version": "3.9.7"
  }
 },
 "nbformat": 4,
 "nbformat_minor": 1
}
