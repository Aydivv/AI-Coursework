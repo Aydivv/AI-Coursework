{
 "cells": [
  {
   "cell_type": "markdown",
   "id": "91cc4bd2",
   "metadata": {},
   "source": [
    "# Week 1 Exercises\n",
    "***\n",
    "## Exercise 1 – Bubble Sort\n",
    "Write a function called bubble that takes a list of values and performs the\n",
    "bubble sort algorithm in-place (meaning you don’t return anything, the sort\n",
    "is performed on the variable you pass in). You can remind yourself about the\n",
    "bubble sort algorithm here: https://en.wikipedia.org/wiki/Bubble_sort.\n",
    "Once you’ve implemented the function, call it by passing a list of values to\n",
    "assure yourself that it works."
   ]
  },
  {
   "cell_type": "code",
   "execution_count": 1,
   "id": "2c46d53e",
   "metadata": {},
   "outputs": [
    {
     "name": "stdout",
     "output_type": "stream",
     "text": [
      "How many numbers do you want to enter?5\n",
      "Enter numbers:\n",
      "3\n",
      "9\n",
      "8\n",
      "2\n",
      "1\n",
      "The list before sorting: [3, 9, 8, 2, 1]\n",
      "The list after sorting: [1, 2, 3, 8, 9]\n",
      "The list was traversed 5 times.\n"
     ]
    }
   ],
   "source": [
    "def bubble(li):\n",
    "    count = 0\n",
    "    for i in range(len(li)):\n",
    "        count=count+1\n",
    "        swap=False\n",
    "        for j in range(len(li)-i-1):\n",
    "            if li[j]>li[j+1]:\n",
    "                t = li[j]\n",
    "                li[j]=li[j+1]\n",
    "                li[j+1]=t\n",
    "                swap=True\n",
    "        if swap==False:\n",
    "            break\n",
    "    return count\n",
    "        \n",
    "                \n",
    "userlist = []\n",
    "limit = int(input(\"How many numbers do you want to enter?\"))\n",
    "print(\"Enter numbers:\")\n",
    "for i in range(limit):\n",
    "    userlist.append(int(input()))\n",
    "print(\"The list before sorting:\", userlist)\n",
    "runs = bubble(userlist)\n",
    "print(\"The list after sorting:\", userlist)\n",
    "print(\"The list was traversed\", runs, \"times.\")"
   ]
  },
  {
   "cell_type": "markdown",
   "id": "bb881a23",
   "metadata": {},
   "source": [
    "**Optimised Bubble sort implemented.**\n",
    "***"
   ]
  },
  {
   "cell_type": "markdown",
   "id": "98b186cf",
   "metadata": {},
   "source": [
    "## Exercise 2 – Fibonacci Sequence\n",
    "The Fibonacci sequence is a mathematical progression wherein each\n",
    "element is the sum of the previous two elements. Write a function\n",
    "fibonacci that takes an argument N and returns a list containing the first\n",
    "N Fibonacci numbers."
   ]
  },
  {
   "cell_type": "code",
   "execution_count": 1,
   "id": "243b7d79",
   "metadata": {},
   "outputs": [
    {
     "name": "stdout",
     "output_type": "stream",
     "text": [
      "Enter N: 5\n",
      "The first 5 Fibonacci numbers are [0, 1, 1, 2, 3] .\n"
     ]
    }
   ],
   "source": [
    "def fibonacci(N):\n",
    "    num = []\n",
    "    if N==0:\n",
    "        return [0]\n",
    "    elif N==1:\n",
    "        return [0]\n",
    "    elif N==2:\n",
    "        return [0,1]\n",
    "    else:\n",
    "        li = fibonacci(N-1)\n",
    "        return li + [li[-1]+li[-2]]\n",
    "\n",
    "N = int(input(\"Enter N: \"))\n",
    "print(\"The first\",N,\"Fibonacci numbers are\",fibonacci(N),\".\")"
   ]
  },
  {
   "cell_type": "markdown",
   "id": "46cc7d30",
   "metadata": {},
   "source": [
    "***\n",
    "## Exercise 3 – Numpy & Matplotlib\n",
    "Generate a plot of the function y = sin(x) between the values -π and π.\n",
    "- Use the Numpy function np.linspace to generate 100 values in that region (the Numpy function np.linspace will also be useful).\n",
    "- The Numpy function np.sin will compute the y value.\n",
    "- The Matplotlib function plt.plot(x, y) can be used to plot the graph. You can also use plt.scatter(x, y) to get points rather than a line.\n",
    "- See if you can find out how to change the colour of the line (for plt.plot) and dots (for plt.scatter)."
   ]
  },
  {
   "cell_type": "code",
   "execution_count": 31,
   "id": "9db93fdd",
   "metadata": {},
   "outputs": [
    {
     "data": {
      "image/png": "[encoded data removed]",
      "text/plain": [
       "<Figure size 432x288 with 1 Axes>"
      ]
     },
     "metadata": {
      "needs_background": "light"
     },
     "output_type": "display_data"
    }
   ],
   "source": [
    "import numpy as np\n",
    "import matplotlib.pylab as plt\n",
    "\n",
    "#Obtaining the points for x and y axis.\n",
    "x = np.linspace(-np.pi,np.pi,100)\n",
    "y = np.sin(x)\n",
    "\n",
    "#Plotting linegraph.\n",
    "plt.plot(x,y,color='cyan',linestyle='dashed')\n",
    "plt.xlabel(\"Angle in radians.\")\n",
    "plt.ylabel(\"Sin value\")\n",
    "plt.show()"
   ]
  },
  {
   "cell_type": "code",
   "execution_count": 30,
   "id": "523a0242",
   "metadata": {},
   "outputs": [
    {
     "data": {
      "image/png": "[encoded data removed]",
      "text/plain": [
       "<Figure size 432x288 with 1 Axes>"
      ]
     },
     "metadata": {
      "needs_background": "light"
     },
     "output_type": "display_data"
    }
   ],
   "source": [
    "#Plotting scatter graph\n",
    "plt.scatter(x,y,color='cyan')\n",
    "plt.xlabel(\"Angle in radians.\")\n",
    "plt.ylabel(\"Sin value\")\n",
    "plt.show()"
   ]
  },
  {
   "cell_type": "markdown",
   "id": "f5bfd726",
   "metadata": {},
   "source": [
    "***\n",
    "## Exercise 4 – More Numpy and Matplotlib\n",
    "Generate 100 random numbers from the uniform distribution\n",
    "(np.random.rand) and 100 samples from the normal distribution\n",
    "(np.random.randn). Produce a boxplot showing the two distributions.\n",
    "You can find more information on the commands you’ll need here:\n",
    "- [Numpy random numbers](https://numpy.org/doc/stable/reference/random/index.html)\n",
    "- [Matplotlib boxplots](https://matplotlib.org/3.1.1/api/_as_gen/matplotlib.pyplot.boxplot.html)"
   ]
  },
  {
   "cell_type": "code",
   "execution_count": 66,
   "id": "65b8e2f6",
   "metadata": {
    "scrolled": false
   },
   "outputs": [
    {
     "data": {
      "image/png": "[encoded data removed]",
      "text/plain": [
       "<Figure size 432x288 with 1 Axes>"
      ]
     },
     "metadata": {
      "needs_background": "light"
     },
     "output_type": "display_data"
    }
   ],
   "source": [
    "random=np.random.rand(100)\n",
    "normal=np.random.randn(100)\n",
    "data=[random,normal]\n",
    "fig, ax = plt.subplots()\n",
    "ax.boxplot(data)\n",
    "plt.xticks([1,2],['Random Distribution','Normal Distribution'])\n",
    "plt.show()"
   ]
  },
  {
   "cell_type": "markdown",
   "id": "cb78c4c0",
   "metadata": {},
   "source": [
    "***"
   ]
  }
 ],
 "metadata": {
  "kernelspec": {
   "display_name": "Python 3 (ipykernel)",
   "language": "python",
   "name": "python3"
  },
  "language_info": {
   "codemirror_mode": {
    "name": "ipython",
    "version": 3
   },
   "file_extension": ".py",
   "mimetype": "text/x-python",
   "name": "python",
   "nbconvert_exporter": "python",
   "pygments_lexer": "ipython3",
   "version": "3.9.7"
  }
 },
 "nbformat": 4,
 "nbformat_minor": 5
}
