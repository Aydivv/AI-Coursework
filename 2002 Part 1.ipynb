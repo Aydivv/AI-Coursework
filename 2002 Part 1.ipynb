{
 "cells": [
  {
   "cell_type": "markdown",
   "id": "42b8ac66",
   "metadata": {},
   "source": [
    "## Importing necessary modules"
   ]
  },
  {
   "cell_type": "code",
   "execution_count": 1,
   "id": "35432b72",
   "metadata": {},
   "outputs": [],
   "source": [
    "import numpy as np\n",
    "import pandas as pd\n",
    "from matplotlib import pyplot as plt"
   ]
  },
  {
   "cell_type": "markdown",
   "id": "df2a69c8",
   "metadata": {},
   "source": [
    "# Preparing the data\n",
    "\n",
    "## Import data as a pandas dataframe and shuffling it"
   ]
  },
  {
   "cell_type": "code",
   "execution_count": 2,
   "id": "6d327ab4",
   "metadata": {},
   "outputs": [],
   "source": [
    "data = pd.read_csv(\"data.csv\")\n",
    "data = data.sample(frac=1)"
   ]
  },
  {
   "cell_type": "markdown",
   "id": "344a3ec7",
   "metadata": {},
   "source": [
    "## Preparing data\n",
    "1. Data is split into inputs(X) and targets(y) and converted into numpy arrays.\n",
    "2. Inputs are normalised\n",
    "3. Data is split into training set and testing set."
   ]
  },
  {
   "cell_type": "code",
   "execution_count": 3,
   "id": "fb8a9950",
   "metadata": {},
   "outputs": [],
   "source": [
    "from sklearn.preprocessing import MinMaxScaler\n",
    "from sklearn.model_selection import train_test_split\n",
    "\n",
    "# Splitting data into inputs and targets\n",
    "y = data[['Y1','Y2']]\n",
    "X =  data[['X1','X2','X3','X4','X5','X6','X7','X8']]\n",
    "y = np.array(y)\n",
    "X = np.array(X)\n",
    "\n",
    "# Normalising inputs\n",
    "scaler = MinMaxScaler()\n",
    "X = scaler.fit_transform(X)\n",
    "\n",
    "# Split into training and testing data\n",
    "X_train, X_test, y_train, y_test = train_test_split(X, y, test_size=0.2)"
   ]
  },
  {
   "cell_type": "markdown",
   "id": "4c4a1cce",
   "metadata": {},
   "source": [
    "PCA was not used on this dataset for the following reasons:\n",
    "1. There is no intention to plot the data, thus removing the need to reduce the dimensions to something we can understand.\n",
    "2. Dataset is small and easy to compute, thus again not requiring PCA to reduce computational complexity.\n",
    "3. When PCA was used the models performed very poorly, the MSE was more than double the current values for all models. "
   ]
  },
  {
   "cell_type": "markdown",
   "id": "594014c3",
   "metadata": {},
   "source": [
    "## Regression function\n",
    "Function that takes a model, training and testing data, trains the model and uses it to predict training and testing values and returns both the values in an array."
   ]
  },
  {
   "cell_type": "code",
   "execution_count": 4,
   "id": "6f3f878c",
   "metadata": {},
   "outputs": [],
   "source": [
    "from sklearn.metrics import mean_squared_error\n",
    "\n",
    "def regressor(model,x_train,y_train,x_test,y_test):\n",
    "    model.fit(x_train,y_train)\n",
    "    testoutputs = model.predict(x_test)\n",
    "    trainoutputs = model.predict(x_train)\n",
    "    return [mean_squared_error(testoutputs,y_test),mean_squared_error(trainoutputs,y_train)]"
   ]
  },
  {
   "cell_type": "markdown",
   "id": "1f8dbb6e",
   "metadata": {},
   "source": [
    "# Regression models\n",
    "\n",
    "This section shows the initialisation of the 3 models and demonstrates each model being able to provide a prediction for a given input (the testing data in this case)\n",
    "\n",
    "## 1. Neural Network Regressor"
   ]
  },
  {
   "cell_type": "code",
   "execution_count": 5,
   "id": "62ab4440",
   "metadata": {},
   "outputs": [
    {
     "name": "stdout",
     "output_type": "stream",
     "text": [
      "Neural Network MSE with testing data:  7.457343566425147\n",
      "Neural Network MSE with training value:  6.8867337188525255\n"
     ]
    }
   ],
   "source": [
    "from sklearn.neural_network import MLPRegressor\n",
    "\n",
    "MLP = MLPRegressor(max_iter=5000)\n",
    "result = regressor(MLP,X_train,y_train,X_test,y_test)\n",
    "print(\"Neural Network MSE with testing data: \",result[0])\n",
    "print(\"Neural Network MSE with training value: \",result[1])"
   ]
  },
  {
   "cell_type": "markdown",
   "id": "0dfe1b22",
   "metadata": {},
   "source": [
    "## 2. Random Forest Regressor"
   ]
  },
  {
   "cell_type": "code",
   "execution_count": 6,
   "id": "b9cf5c9f",
   "metadata": {},
   "outputs": [
    {
     "name": "stdout",
     "output_type": "stream",
     "text": [
      "Random Forest MSE with testing data:  1.9865977680194824\n",
      "Random Forest MSE with training value:  0.2663848018403912\n"
     ]
    }
   ],
   "source": [
    "from sklearn.ensemble import RandomForestRegressor\n",
    "\n",
    "RFR = RandomForestRegressor()\n",
    "result = regressor(RFR,X_train,y_train,X_test,y_test)\n",
    "print(\"Random Forest MSE with testing data: \",result[0])\n",
    "print(\"Random Forest MSE with training value: \",result[1])"
   ]
  },
  {
   "cell_type": "markdown",
   "id": "84a3f0fb",
   "metadata": {},
   "source": [
    "## 3. Support Vector Machine Regressor"
   ]
  },
  {
   "cell_type": "code",
   "execution_count": 7,
   "id": "74d6d551",
   "metadata": {},
   "outputs": [
    {
     "name": "stdout",
     "output_type": "stream",
     "text": [
      "Support Vector Machine MSE with testing data:  8.068495003936441\n",
      "Support Vector Machine MSE with training value:  8.484624405305146\n"
     ]
    }
   ],
   "source": [
    "from sklearn.svm import SVR\n",
    "from sklearn.multioutput import MultiOutputRegressor\n",
    "\n",
    "SVR = MultiOutputRegressor(SVR())\n",
    "\n",
    "result = regressor(SVR,X_train,y_train,X_test,y_test)\n",
    "print(\"Support Vector Machine MSE with testing data: \",result[0])\n",
    "print(\"Support Vector Machine MSE with training value: \",result[1])"
   ]
  },
  {
   "cell_type": "markdown",
   "id": "a3a37811",
   "metadata": {},
   "source": [
    "## KFold Cross Validation"
   ]
  },
  {
   "cell_type": "code",
   "execution_count": 8,
   "id": "c8438027",
   "metadata": {},
   "outputs": [],
   "source": [
    "from sklearn.model_selection import KFold\n",
    "\n",
    "# Creating a Kfold object which will shuffle the data and then split the data into 5 equal parts.\n",
    "kf5 = KFold(n_splits=5 , random_state = 4, shuffle=True)\n",
    "\n",
    "# Initialising empty arrays to store MSE values from each fold\n",
    "RFRvalues = MLPvalues = SVMvalues = np.empty((0,2))\n",
    "\n",
    "# For loop iterating over the 5 different folds and appending the resulting MSE from each fold for each model to the arrays above.\n",
    "for train_index, test_index in kf5.split(X):\n",
    "    X_train, X_test, y_train, y_test = X[train_index], X[test_index],y[train_index], y[test_index]\n",
    "\n",
    "    MLPvalues = np.append(MLPvalues, [regressor(MLP,X_train,y_train,X_test,y_test)], axis = 0)\n",
    "    RFRvalues = np.append(RFRvalues, [regressor(RFR,X_train,y_train,X_test,y_test)], axis = 0)\n",
    "    SVMvalues = np.append(SVMvalues, [regressor(SVR,X_train,y_train,X_test,y_test)], axis = 0)"
   ]
  },
  {
   "cell_type": "markdown",
   "id": "c6dd4100",
   "metadata": {},
   "source": [
    "# Visualisation\n",
    "Data is visualised using a Boxplot showing the MSE values of each model when each of them are tested by predicting the testing data and the training data."
   ]
  },
  {
   "cell_type": "code",
   "execution_count": 10,
   "id": "801a2697",
   "metadata": {},
   "outputs": [
    {
     "data": {
      "image/png": "[encoded data removed]",
      "text/plain": [
       "<Figure size 720x720 with 1 Axes>"
      ]
     },
     "metadata": {
      "needs_background": "light"
     },
     "output_type": "display_data"
    }
   ],
   "source": [
    "# Dictionary which stores the arrays and their respective names, making it easier for the developer to test and edit.\n",
    "data = {'Random Forest Testing': RFRvalues[:,0],'Random Forest Training': RFRvalues[:,1], 'Neural Network Testing': MLPvalues[:,0], 'Neural Network Training': MLPvalues[:,1], 'SVM Testing':SVMvalues[:,0], 'SVM Training':SVMvalues[:,1]}\n",
    "\n",
    "fig, ax = plt.subplots()\n",
    "plt.rcParams[\"figure.figsize\"] = [10, 10]\n",
    "plt.rcParams[\"figure.autolayout\"] = True\n",
    "plt.title(\"MSE of models using Training and Testing data\")\n",
    "\n",
    "ax.boxplot(data.values())\n",
    "ax.set_xticklabels(data.keys(),rotation=30)\n",
    "ax.set_ylabel('Mean Squared Error')\n",
    "ax.set_xlabel('Regression Model')\n",
    "\n",
    "plt.show()"
   ]
  }
 ],
 "metadata": {
  "kernelspec": {
   "display_name": "Python 3 (ipykernel)",
   "language": "python",
   "name": "python3"
  },
  "language_info": {
   "codemirror_mode": {
    "name": "ipython",
    "version": 3
   },
   "file_extension": ".py",
   "mimetype": "text/x-python",
   "name": "python",
   "nbconvert_exporter": "python",
   "pygments_lexer": "ipython3",
   "version": "3.9.7"
  }
 },
 "nbformat": 4,
 "nbformat_minor": 5
}
