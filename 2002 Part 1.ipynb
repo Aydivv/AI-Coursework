{
 "cells": [
  {
   "cell_type": "markdown",
   "id": "42b8ac66",
   "metadata": {},
   "source": [
    "## Importing necessary modules"
   ]
  },
  {
   "cell_type": "code",
   "execution_count": 90,
   "id": "35432b72",
   "metadata": {},
   "outputs": [],
   "source": [
    "import numpy as np\n",
    "import pandas as pd"
   ]
  },
  {
   "cell_type": "markdown",
   "id": "df2a69c8",
   "metadata": {},
   "source": [
    "## Import data as a pandas dataframe and shuffling it"
   ]
  },
  {
   "cell_type": "code",
   "execution_count": 91,
   "id": "6d327ab4",
   "metadata": {},
   "outputs": [],
   "source": [
    "data = pd.read_csv(\"data.csv\")\n",
    "data = data.sample(frac=1)"
   ]
  },
  {
   "cell_type": "markdown",
   "id": "344a3ec7",
   "metadata": {},
   "source": [
    "## Preparing data\n",
    "1. Data is split into inputs(X) and targets(y).\n",
    "2. Data is converted into np arrays.\n",
    "3. Inputs are normalised\n",
    "4. Data is split into training set and testing set."
   ]
  },
  {
   "cell_type": "code",
   "execution_count": 92,
   "id": "fb8a9950",
   "metadata": {},
   "outputs": [],
   "source": [
    "#Splitting data into inputs and targets\n",
    "y = data[['Y1','Y2']]\n",
    "X =  data[['X1','X2','X3','X4','X5','X6','X7','X8']]\n",
    "y = np.array(y)\n",
    "X = np.array(X)\n",
    "\n",
    "#Normalising inputs\n",
    "from sklearn.preprocessing import MinMaxScaler\n",
    "\n",
    "scaler = MinMaxScaler()\n",
    "X = scaler.fit_transform(X)\n",
    "\n",
    "#Split into training and testing data\n",
    "from sklearn.model_selection import train_test_split\n",
    "\n",
    "X_train, X_test, y_train, y_test = train_test_split(X, y, test_size=0.2)"
   ]
  },
  {
   "cell_type": "markdown",
   "id": "594014c3",
   "metadata": {},
   "source": [
    "## Regression function"
   ]
  },
  {
   "cell_type": "code",
   "execution_count": 93,
   "id": "6f3f878c",
   "metadata": {},
   "outputs": [],
   "source": [
    "#Function that returns test and train results in a list.\n",
    "from sklearn.metrics import mean_squared_error\n",
    "\n",
    "def regressor(model,x_train,y_train,x_test,y_test):\n",
    "    model.fit(x_train,y_train)\n",
    "    testoutputs = model.predict(x_test)\n",
    "    trainoutputs = model.predict(x_train)\n",
    "    return [mean_squared_error(testoutputs,y_test),mean_squared_error(trainoutputs,y_train)]"
   ]
  },
  {
   "cell_type": "markdown",
   "id": "1f8dbb6e",
   "metadata": {},
   "source": [
    "## Neural Network Regression"
   ]
  },
  {
   "cell_type": "code",
   "execution_count": 94,
   "id": "62ab4440",
   "metadata": {},
   "outputs": [
    {
     "name": "stdout",
     "output_type": "stream",
     "text": [
      "Neural Network testing value:  4.45294414536094\n",
      "Neural Network training value:  5.297207707760034\n"
     ]
    }
   ],
   "source": [
    "from sklearn.neural_network import MLPRegressor\n",
    "\n",
    "MLP = MLPRegressor(max_iter=5000)\n",
    "result = regressor(MLP,X_train,y_train,X_test,y_test)\n",
    "print(\"Neural Network testing value: \",result[0])\n",
    "print(\"Neural Network training value: \",result[1])"
   ]
  },
  {
   "cell_type": "markdown",
   "id": "0dfe1b22",
   "metadata": {},
   "source": [
    "## Random Forest Regression"
   ]
  },
  {
   "cell_type": "code",
   "execution_count": 95,
   "id": "b9cf5c9f",
   "metadata": {},
   "outputs": [
    {
     "name": "stdout",
     "output_type": "stream",
     "text": [
      "Random Forest testing value:  1.5028471708116973\n",
      "Random Forest training value:  0.2719037104723124\n"
     ]
    }
   ],
   "source": [
    "from sklearn.ensemble import RandomForestRegressor\n",
    "\n",
    "RFR = RandomForestRegressor()\n",
    "result = regressor(RFR,X_train,y_train,X_test,y_test)\n",
    "print(\"Random Forest testing value: \",result[0])\n",
    "print(\"Random Forest training value: \",result[1])"
   ]
  },
  {
   "cell_type": "markdown",
   "id": "84a3f0fb",
   "metadata": {},
   "source": [
    "## SVM Regression"
   ]
  },
  {
   "cell_type": "code",
   "execution_count": 96,
   "id": "314ad6a1",
   "metadata": {},
   "outputs": [
    {
     "name": "stdout",
     "output_type": "stream",
     "text": [
      "Support Vector Machine with Y1 testing value:  6.452178709179523\n",
      "Support Vector Machine with Y2 training value:  7.640281930903057 \n",
      "\n",
      "Support Vector Machine with Y1 testing value:  8.912513966014153\n",
      "Support Vector Machine with Y2 training value:  9.90994477496386\n"
     ]
    }
   ],
   "source": [
    "from sklearn.svm import SVR\n",
    "\n",
    "ytrain1,ytrain2=np.split(y_train,2,axis=1)\n",
    "ytest1,ytest2=np.split(y_test,2,axis=1)\n",
    "\n",
    "ytrain1 = ytrain1.flatten()\n",
    "ytrain2 = ytrain2.flatten()\n",
    "ytest1 = ytest1.flatten()\n",
    "ytest2 = ytest2.flatten()\n",
    "\n",
    "\n",
    "SVR1 = SVR()\n",
    "result = regressor(SVR1,X_train,ytrain1,X_test,ytest1)\n",
    "print(\"Support Vector Machine with Y1 testing value: \",result[0])\n",
    "print(\"Support Vector Machine with Y2 training value: \",result[1],'\\n')\n",
    "\n",
    "SVR2 = SVR()\n",
    "result = regressor(SVR2,X_train,ytrain2,X_test,ytest2)\n",
    "print(\"Support Vector Machine with Y1 testing value: \",result[0])\n",
    "print(\"Support Vector Machine with Y2 training value: \",result[1])"
   ]
  },
  {
   "cell_type": "markdown",
   "id": "a3a37811",
   "metadata": {},
   "source": [
    "## KFold Cross Validation"
   ]
  },
  {
   "cell_type": "code",
   "execution_count": 97,
   "id": "c8438027",
   "metadata": {},
   "outputs": [],
   "source": [
    "from sklearn.model_selection import KFold\n",
    "\n",
    "kf5 = KFold(n_splits=5,random_state = 4, shuffle=True)\n",
    "\n",
    "RFRvalues = []\n",
    "MLPvalues = []\n",
    "SVMY1values = []\n",
    "SVMY2values = []\n",
    "\n",
    "\n",
    "for train_index, test_index in kf5.split(X):\n",
    "    \n",
    "    X_train, X_test, y_train, y_test = X[train_index], X[test_index],y[train_index], y[test_index]\n",
    "\n",
    "    MLPvalues.append(regressor(MLP,X_train,y_train,X_test,y_test))\n",
    "    RFRvalues.append(regressor(RFR,X_train,y_train,X_test,y_test))\n",
    "    \n",
    "    ytrain1,ytrain2=np.split(y_train,2,axis=1)\n",
    "    ytest1,ytest2=np.split(y_test,2,axis=1)\n",
    "\n",
    "    SVMY1values.append(regressor(SVR1,X_train,ytrain1.flatten(),X_test,ytest1.flatten()))\n",
    "    SVMY2values.append(regressor(SVR2,X_train,ytrain2.flatten(),X_test,ytest2.flatten()))\n",
    "    "
   ]
  },
  {
   "cell_type": "markdown",
   "id": "b2de134f",
   "metadata": {},
   "source": [
    "## Splitting training and testing results to visualise them seperately"
   ]
  },
  {
   "cell_type": "code",
   "execution_count": 98,
   "id": "eb33df3f",
   "metadata": {},
   "outputs": [],
   "source": [
    "from matplotlib import pyplot as plt\n",
    "\n",
    "testRFR = []\n",
    "testMLP = []\n",
    "testSVMY1 = []\n",
    "testSVMY2 = []\n",
    "\n",
    "trainRFR = []\n",
    "trainMLP = []\n",
    "trainSVMY1 = []\n",
    "trainSVMY2 = []\n",
    "\n",
    "for i in range(len(RFRvalues)):\n",
    "    testRFR.append(RFRvalues[i][0])\n",
    "    testMLP.append(MLPvalues[i][0])\n",
    "    testSVMY1.append(SVMY1values[i][0])\n",
    "    testSVMY2.append(SVMY2values[i][0])\n",
    "    \n",
    "    trainRFR.append(RFRvalues[i][1])\n",
    "    trainMLP.append(MLPvalues[i][1])\n",
    "    trainSVMY1.append(SVMY1values[i][1])\n",
    "    trainSVMY2.append(SVMY2values[i][1])"
   ]
  },
  {
   "cell_type": "markdown",
   "id": "cbb68692",
   "metadata": {},
   "source": [
    "## Visualising Training Data"
   ]
  },
  {
   "cell_type": "code",
   "execution_count": 105,
   "id": "129596b6",
   "metadata": {
    "scrolled": false
   },
   "outputs": [
    {
     "data": {
      "image/png": "[encoded data removed]",
      "text/plain": [
       "<Figure size 540x540 with 1 Axes>"
      ]
     },
     "metadata": {
      "needs_background": "light"
     },
     "output_type": "display_data"
    }
   ],
   "source": [
    "data = {'Random Forest': trainRFR, 'Neural Network': trainMLP, 'SVM Y1':trainSVMY1, 'SVM Y2':trainSVMY2}\n",
    "fig, ax = plt.subplots()\n",
    "\n",
    "plt.rcParams[\"figure.figsize\"] = [7.50, 7.50]\n",
    "plt.rcParams[\"figure.autolayout\"] = True\n",
    "\n",
    "ax.boxplot(data.values())\n",
    "ax.set_xticklabels(data.keys())\n",
    "plt.title(\"Training data\")\n",
    "\n",
    "plt.show()"
   ]
  },
  {
   "cell_type": "markdown",
   "id": "8ac2e0e2",
   "metadata": {},
   "source": [
    "## Visualising Testing Data"
   ]
  },
  {
   "cell_type": "code",
   "execution_count": 104,
   "id": "d654d7ae",
   "metadata": {},
   "outputs": [
    {
     "data": {
      "image/png": "[encoded data removed]",
      "text/plain": [
       "<Figure size 540x540 with 1 Axes>"
      ]
     },
     "metadata": {
      "needs_background": "light"
     },
     "output_type": "display_data"
    }
   ],
   "source": [
    "data = {'Random Forest': testRFR, 'Neural Network': testMLP, 'SVM Y1':testSVMY1, 'SVM Y2':testSVMY2}\n",
    "fig, ax = plt.subplots()\n",
    "\n",
    "plt.rcParams[\"figure.figsize\"] = [7.50, 7.50]\n",
    "plt.rcParams[\"figure.autolayout\"] = True\n",
    "\n",
    "ax.boxplot(data.values())\n",
    "ax.set_xticklabels(data.keys())\n",
    "plt.title(\"Testing data\")\n",
    "\n",
    "plt.show()"
   ]
  }
 ],
 "metadata": {
  "kernelspec": {
   "display_name": "Python 3 (ipykernel)",
   "language": "python",
   "name": "python3"
  },
  "language_info": {
   "codemirror_mode": {
    "name": "ipython",
    "version": 3
   },
   "file_extension": ".py",
   "mimetype": "text/x-python",
   "name": "python",
   "nbconvert_exporter": "python",
   "pygments_lexer": "ipython3",
   "version": "3.9.7"
  }
 },
 "nbformat": 4,
 "nbformat_minor": 5
}
