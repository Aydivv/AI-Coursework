{
 "cells": [
  {
   "cell_type": "markdown",
   "id": "42b8ac66",
   "metadata": {},
   "source": [
    "# Part 1 - Machine Learning\n",
    "\n",
    "## Importing necessary modules"
   ]
  },
  {
   "cell_type": "code",
   "execution_count": 3,
   "id": "35432b72",
   "metadata": {},
   "outputs": [],
   "source": [
    "import numpy as np\n",
    "import pandas as pd\n",
    "from matplotlib import pyplot as plt"
   ]
  },
  {
   "cell_type": "markdown",
   "id": "df2a69c8",
   "metadata": {},
   "source": [
    "# Preparing the data\n",
    "\n",
    "## Import data as a pandas dataframe and shuffling it"
   ]
  },
  {
   "cell_type": "code",
   "execution_count": 4,
   "id": "6d327ab4",
   "metadata": {},
   "outputs": [],
   "source": [
    "data = pd.read_csv(\"data.csv\")\n",
    "data = data.sample(frac=1)"
   ]
  },
  {
   "cell_type": "markdown",
   "id": "344a3ec7",
   "metadata": {},
   "source": [
    "## Preparing data\n",
    "1. Data is split into inputs(X) and targets(y) and converted into numpy arrays.\n",
    "2. Inputs are normalised\n",
    "3. Data is split into training set and testing set."
   ]
  },
  {
   "cell_type": "code",
   "execution_count": 5,
   "id": "fb8a9950",
   "metadata": {},
   "outputs": [],
   "source": [
    "from sklearn.preprocessing import MinMaxScaler\n",
    "from sklearn.model_selection import train_test_split\n",
    "\n",
    "# Splitting data into inputs and targets\n",
    "y = data[['Y1','Y2']]\n",
    "X =  data[['X1','X2','X3','X4','X5','X6','X7','X8']]\n",
    "y = np.array(y)\n",
    "X = np.array(X)\n",
    "\n",
    "# Normalising inputs\n",
    "scaler = MinMaxScaler()\n",
    "X = scaler.fit_transform(X)\n",
    "\n",
    "# Split into training and testing data\n",
    "X_train, X_test, y_train, y_test = train_test_split(X, y, test_size=0.2)"
   ]
  },
  {
   "cell_type": "markdown",
   "id": "b62838a3",
   "metadata": {},
   "source": [
    "PCA was not used on this dataset for the following reasons:\n",
    "1. There is no intention to plot the data, thus removing the need to reduce the dimensions to something we can understand.\n",
    "2. Dataset is small and easy to compute, thus again not requiring PCA to reduce computational complexity.\n",
    "3. When PCA was used the models performed very poorly, the MSE was more than double the current values for all models. "
   ]
  },
  {
   "cell_type": "markdown",
   "id": "594014c3",
   "metadata": {},
   "source": [
    "## Regression function\n",
    "Function that takes a model, training and testing data, trains the model and uses it to predict training and testing values and returns both the values in an array."
   ]
  },
  {
   "cell_type": "code",
   "execution_count": 6,
   "id": "6f3f878c",
   "metadata": {},
   "outputs": [],
   "source": [
    "from sklearn.metrics import mean_squared_error\n",
    "\n",
    "def regressor(model,x_train,y_train,x_test,y_test):\n",
    "    model.fit(x_train,y_train)\n",
    "    testoutputs = model.predict(x_test)\n",
    "    trainoutputs = model.predict(x_train)\n",
    "    return [mean_squared_error(testoutputs,y_test),mean_squared_error(trainoutputs,y_train)]"
   ]
  },
  {
   "cell_type": "markdown",
   "id": "1f8dbb6e",
   "metadata": {},
   "source": [
    "# Regression models\n",
    "\n",
    "This section shows the initialisation of the 3 models and demonstrates each model being able to provide a prediction for a given input (the testing data in this case)\n",
    "\n",
    "## 1. Neural Network Regressor"
   ]
  },
  {
   "cell_type": "code",
   "execution_count": 7,
   "id": "62ab4440",
   "metadata": {},
   "outputs": [
    {
     "name": "stdout",
     "output_type": "stream",
     "text": [
      "Neural Network MSE with testing data:  8.646068865990683\n",
      "Neural Network MSE with training value:  8.263864171010525\n"
     ]
    }
   ],
   "source": [
    "from sklearn.neural_network import MLPRegressor\n",
    "\n",
    "MLP = MLPRegressor(max_iter=5000)\n",
    "result = regressor(MLP,X_train,y_train,X_test,y_test)\n",
    "print(\"Neural Network MSE with testing data: \",result[0])\n",
    "print(\"Neural Network MSE with training value: \",result[1])"
   ]
  },
  {
   "cell_type": "markdown",
   "id": "0dfe1b22",
   "metadata": {},
   "source": [
    "## 2. Random Forest Regressor"
   ]
  },
  {
   "cell_type": "code",
   "execution_count": 8,
   "id": "b9cf5c9f",
   "metadata": {},
   "outputs": [
    {
     "name": "stdout",
     "output_type": "stream",
     "text": [
      "Random Forest MSE with testing data:  1.6358794483116867\n",
      "Random Forest MSE with training value:  0.28578782716612394\n"
     ]
    }
   ],
   "source": [
    "from sklearn.ensemble import RandomForestRegressor\n",
    "\n",
    "RFR = RandomForestRegressor()\n",
    "result = regressor(RFR,X_train,y_train,X_test,y_test)\n",
    "print(\"Random Forest MSE with testing data: \",result[0])\n",
    "print(\"Random Forest MSE with training value: \",result[1])"
   ]
  },
  {
   "cell_type": "markdown",
   "id": "84a3f0fb",
   "metadata": {},
   "source": [
    "## 3. Support Vector Machine Regressor"
   ]
  },
  {
   "cell_type": "code",
   "execution_count": 9,
   "id": "74d6d551",
   "metadata": {},
   "outputs": [
    {
     "name": "stdout",
     "output_type": "stream",
     "text": [
      "Support Vector Machine MSE with testing data:  9.680024718374083\n",
      "Support Vector Machine MSE with training value:  8.430533130552513\n"
     ]
    }
   ],
   "source": [
    "from sklearn.svm import SVR\n",
    "from sklearn.multioutput import MultiOutputRegressor\n",
    "\n",
    "SVR = MultiOutputRegressor(SVR())\n",
    "\n",
    "result = regressor(SVR,X_train,y_train,X_test,y_test)\n",
    "print(\"Support Vector Machine MSE with testing data: \",result[0])\n",
    "print(\"Support Vector Machine MSE with training value: \",result[1])"
   ]
  },
  {
   "cell_type": "markdown",
   "id": "a3a37811",
   "metadata": {},
   "source": [
    "## KFold Cross Validation"
   ]
  },
  {
   "cell_type": "code",
   "execution_count": 10,
   "id": "c8438027",
   "metadata": {},
   "outputs": [],
   "source": [
    "from sklearn.model_selection import KFold\n",
    "\n",
    "# Creating a Kfold object which will shuffle the data and then split the data into 5 equal parts.\n",
    "kf5 = KFold(n_splits=5 , random_state = 4, shuffle=True)\n",
    "\n",
    "# Initialising empty arrays to store MSE values from each fold\n",
    "RFRvalues = MLPvalues = SVMvalues = np.empty((0,2))\n",
    "\n",
    "# For loop iterating over the 5 different folds and appending the resulting MSE from each fold for each model to the arrays above.\n",
    "for train_index, test_index in kf5.split(X):\n",
    "    X_train, X_test, y_train, y_test = X[train_index], X[test_index],y[train_index], y[test_index]\n",
    "\n",
    "    MLPvalues = np.append(MLPvalues, [regressor(MLP,X_train,y_train,X_test,y_test)], axis = 0)\n",
    "    RFRvalues = np.append(RFRvalues, [regressor(RFR,X_train,y_train,X_test,y_test)], axis = 0)\n",
    "    SVMvalues = np.append(SVMvalues, [regressor(SVR,X_train,y_train,X_test,y_test)], axis = 0)"
   ]
  },
  {
   "cell_type": "markdown",
   "id": "04f0c954",
   "metadata": {},
   "source": [
    "# Visualisation\n",
    "Data is visualised using a Boxplot showing the MSE values of each model when each of them are tested by predicting the testing data and the training data."
   ]
  },
  {
   "cell_type": "code",
   "execution_count": 12,
   "id": "66513be7",
   "metadata": {
    "scrolled": false
   },
   "outputs": [
    {
     "data": {
      "image/png": "[encoded data removed]",
      "text/plain": [
       "<Figure size 720x720 with 1 Axes>"
      ]
     },
     "metadata": {
      "needs_background": "light"
     },
     "output_type": "display_data"
    }
   ],
   "source": [
    "# Dictionary which stores the arrays and their respective names, making it easier for the developer to test and edit.\n",
    "data = {'Random Forest Testing': RFRvalues[:,0],'Random Forest Training': RFRvalues[:,1], 'Neural Network Testing': MLPvalues[:,0], 'Neural Network Training': MLPvalues[:,1], 'SVM Testing':SVMvalues[:,0], 'SVM Training':SVMvalues[:,1]}\n",
    "\n",
    "fig, ax = plt.subplots()\n",
    "plt.rcParams[\"figure.figsize\"] = [10, 10]\n",
    "plt.rcParams[\"figure.autolayout\"] = True\n",
    "plt.title(\"MSE of models using Training and Testing data\")\n",
    "\n",
    "ax.boxplot(data.values())\n",
    "ax.set_xticklabels(data.keys(),rotation=30)\n",
    "ax.set_ylabel('Mean Squared Error')\n",
    "ax.set_xlabel('Regression Model')\n",
    "\n",
    "plt.show()"
   ]
  },
  {
   "cell_type": "markdown",
   "id": "644aa5b6",
   "metadata": {},
   "source": [
    "# Part 2 - Optimisation"
   ]
  },
  {
   "cell_type": "markdown",
   "id": "6eaedd95",
   "metadata": {},
   "source": [
    "## Data Structure Creation\n",
    "\n",
    "The data structure used here is a 2 dimensional numpy array with a shape of 20x3. Each row will be one of the 20 sessions. The first column of the 20x3 array is taken to be a lecture theatre and the other two columns are the labs. This is constrained by a precedence constraint condition in the fitness function.\n",
    "\n",
    "Each element in the array will be a Module object defined below which has attributes taken from the given txt file. "
   ]
  },
  {
   "cell_type": "markdown",
   "id": "713df83a",
   "metadata": {},
   "source": [
    "#### Creating the Module Class "
   ]
  },
  {
   "cell_type": "code",
   "execution_count": 121,
   "id": "85614ddb",
   "metadata": {},
   "outputs": [],
   "source": [
    "# Creating the Module class\n",
    "class Module():\n",
    "    def __init__(self,module):\n",
    "        module = module.split('|')\n",
    "        self.name = module[0]\n",
    "        self.staff = module[1]\n",
    "        self.labs = module[2]\n",
    "        self.constraints = module[3].split(',')"
   ]
  },
  {
   "cell_type": "markdown",
   "id": "a48218f4",
   "metadata": {},
   "source": [
    "#### Importing the modules and making an array of all modules"
   ]
  },
  {
   "cell_type": "code",
   "execution_count": 122,
   "id": "701e2a0d",
   "metadata": {},
   "outputs": [],
   "source": [
    "# Opening the file and importing the data into a modules array.\n",
    "f = open('Modules.txt','r')\n",
    "modules = []\n",
    "line = f.readline()\n",
    "while line:\n",
    "    modules.append(Module(line))\n",
    "    line = f.readline()\n",
    "f.close()\n",
    "\n",
    "# Duplicating module objects corresponding to the number of labs each module has and adding it to a new list.\n",
    "modulesWithLabs = modules   \n",
    "for i in modules:\n",
    "    modulesWithLabs = modulesWithLabs + ([i]*int(i.labs))"
   ]
  },
  {
   "cell_type": "markdown",
   "id": "f90a6530",
   "metadata": {},
   "source": [
    "#### Converting the array of modules into a usable timetable data structure and generating a random timetable"
   ]
  },
  {
   "cell_type": "code",
   "execution_count": 123,
   "id": "2712c056",
   "metadata": {},
   "outputs": [],
   "source": [
    "# Creating an empty 1 dimensional array with 60 empty module objects\n",
    "timetable = np.full((60,),Module(\"Empty|None|None|None,None\"),dtype=Module)\n",
    "\n",
    "# Populating the empty array with module objects.\n",
    "k = 0\n",
    "for i in range(len(timetable)):\n",
    "    timetable[i] = modulesWithLabs[k]\n",
    "    k = k+1\n",
    "    if k>=len(modulesWithLabs):\n",
    "        break\n",
    "            \n",
    "# Shuffling the array so a random array of 60 module objects is made.\n",
    "np.random.shuffle(timetable)\n",
    "\n",
    "# The module is reshaped to 20x3.\n",
    "timetable = np.reshape(timetable,(20,3))"
   ]
  },
  {
   "cell_type": "markdown",
   "id": "a23a5584",
   "metadata": {},
   "source": [
    "#### Displaying the timetable"
   ]
  },
  {
   "cell_type": "code",
   "execution_count": 124,
   "id": "4943d91e",
   "metadata": {
    "scrolled": false
   },
   "outputs": [
    {
     "name": "stdout",
     "output_type": "stream",
     "text": [
      "['Lecture', 'Lab 1', 'Lab 2']\n",
      "['Empty', 'MOD010', 'MOD015']\n",
      "['MOD008', 'MOD002', 'MOD013']\n",
      "['MOD011', 'MOD006', 'MOD013']\n",
      "['Empty', 'MOD007', 'MOD016']\n",
      "['MOD002', 'MOD015', 'MOD014']\n",
      "['MOD009', 'MOD011', 'MOD014']\n",
      "['MOD005', 'Empty', 'Empty']\n",
      "['MOD006', 'MOD004', 'MOD015']\n",
      "['MOD007', 'Empty', 'MOD012']\n",
      "['MOD006', 'MOD003', 'MOD001']\n",
      "['MOD001', 'Empty', 'MOD008']\n",
      "['MOD002', 'MOD009', 'MOD012']\n",
      "['MOD017', 'MOD010', 'MOD012']\n",
      "['MOD005', 'Empty', 'Empty']\n",
      "['Empty', 'MOD003', 'MOD016']\n",
      "['MOD001', 'MOD017', 'MOD003']\n",
      "['MOD009', 'MOD005', 'MOD006']\n",
      "['Empty', 'MOD014', 'MOD009']\n",
      "['MOD011', 'Empty', 'Empty']\n",
      "['MOD008', 'MOD004', 'MOD010']\n"
     ]
    }
   ],
   "source": [
    "# Displaying the random timetable\n",
    "print([\"Lecture\",\"Lab 1\",\"Lab 2\"])\n",
    "for i in timetable:\n",
    "    print([i[0].name,i[1].name,i[2].name])"
   ]
  },
  {
   "cell_type": "markdown",
   "id": "43ff3cd4",
   "metadata": {},
   "source": [
    "#### Function that generates a random timetable\n",
    "Uses the same logic shown above"
   ]
  },
  {
   "cell_type": "code",
   "execution_count": 126,
   "id": "ac0d322f",
   "metadata": {},
   "outputs": [],
   "source": [
    "def generate_random_timetable(modules):\n",
    "    timetable = np.full((60,),Module(\"Empty|None|None|None,None\"),dtype=Module)\n",
    "    k = 0\n",
    "    for i in range(len(timetable)):\n",
    "        timetable[i] = modulesWithLabs[k]\n",
    "        k = k+1\n",
    "        if k>=len(modulesWithLabs):\n",
    "            break\n",
    "    np.random.shuffle(timetable)\n",
    "    timetable = np.reshape(timetable,(20,3))\n",
    "    return timetable"
   ]
  },
  {
   "cell_type": "markdown",
   "id": "0390f836",
   "metadata": {},
   "source": [
    "#### Function to print out a timetable"
   ]
  },
  {
   "cell_type": "code",
   "execution_count": 127,
   "id": "13503d04",
   "metadata": {},
   "outputs": [],
   "source": [
    "def printTimetable(timetable):\n",
    "    print([\"Lecture\",\"Lab 1\",\"Lab 2\"])\n",
    "    for i in timetable:\n",
    "        print([i[0].name,i[1].name,i[2].name])"
   ]
  },
  {
   "cell_type": "markdown",
   "id": "e6c84fec",
   "metadata": {},
   "source": [
    "## Creation of fitness function"
   ]
  },
  {
   "cell_type": "markdown",
   "id": "c936f405",
   "metadata": {},
   "source": [
    "#### Concurrence function\n",
    "Function that takes in a session and returns the concurrence constraint of that session by checking each module against the constraints of the other modules and against itself to reduce duplicates of the same module in one session."
   ]
  },
  {
   "cell_type": "code",
   "execution_count": 128,
   "id": "61948c97",
   "metadata": {},
   "outputs": [],
   "source": [
    "def checkConcurrence(li):\n",
    "    count = 0\n",
    "    #Checks if module is against another module that clashes.\n",
    "    if li[0].name in li[1].constraints or li[0].name in li[2].constraints:\n",
    "        count = count + 1\n",
    "    if li[1].name in li[2].constraints or li[1].name in li[0].constraints:\n",
    "        count = count + 1\n",
    "    if li[2].name in li[0].constraints or li[2].name in li[1].constraints:\n",
    "        count = count + 1\n",
    "    \n",
    "    #Checks if one module is being held at the same time in different rooms.\n",
    "    if li[0].name==li[1].name:\n",
    "        count = count + 1\n",
    "    if li[1].name==li[2].name:\n",
    "        count = count + 1\n",
    "    if li[2].name==li[0].name:\n",
    "        count = count + 1\n",
    "    \n",
    "    return count"
   ]
  },
  {
   "cell_type": "markdown",
   "id": "54f3c778",
   "metadata": {},
   "source": [
    "#### Precedence Function\n",
    "Function that returns the precedence constraint of a whole timetable by looping through the lecture theatres and checking if there are any labs in the previous sessions with the same name as the current lecture in the lecture theatre. This function also ensures the labs are in the labs columns and the lectures are in the lecture theatre columns."
   ]
  },
  {
   "cell_type": "code",
   "execution_count": 129,
   "id": "3df69401",
   "metadata": {},
   "outputs": [],
   "source": [
    "def checkPrecedence(li):\n",
    "    count = 0\n",
    "    for i in range(len(li)):\n",
    "        lecture = li[i][0].name\n",
    "        if lecture == 'Empty':\n",
    "            continue\n",
    "        for j in range(0,i):\n",
    "            #Checks if the lecture for this week has already been held before.\n",
    "            if lecture == li[j][0].name:\n",
    "                count = count + 1\n",
    "            #Checks if the lecture is being held after the lab session of a lecture.\n",
    "            if lecture == li[j][1].name:\n",
    "                count = count + 1\n",
    "            if lecture == li[j][2].name:\n",
    "                count = count + 1\n",
    "    return count"
   ]
  },
  {
   "cell_type": "markdown",
   "id": "ccfa4e8f",
   "metadata": {},
   "source": [
    "#### Fitness function\n",
    "Function that utilises the previous two functions. It calculates the precedence and concurrence constraints, adds 1 to each value (to counteract the zero property of multiplication) and then multiplies it to return a final fitness value."
   ]
  },
  {
   "cell_type": "code",
   "execution_count": 131,
   "id": "1e88e4d8",
   "metadata": {},
   "outputs": [],
   "source": [
    "def fitness(timetable):\n",
    "    precedence = checkPrecedence(timetable) + 1\n",
    "  \n",
    "    concurrence = 1\n",
    "    for i in timetable:\n",
    "        concurrence = concurrence + checkConcurrence(i)\n",
    "    return precedence * concurrence"
   ]
  },
  {
   "cell_type": "markdown",
   "id": "9782750b",
   "metadata": {},
   "source": [
    "## Functions for the hillclimber\n",
    "\n",
    "#### Comparison Function\n",
    "Returns the timetable with the lower fitness"
   ]
  },
  {
   "cell_type": "code",
   "execution_count": 132,
   "id": "055f3b19",
   "metadata": {},
   "outputs": [],
   "source": [
    "def compare_fitness(child,parent):\n",
    "    return child<=parent"
   ]
  },
  {
   "cell_type": "markdown",
   "id": "eb794ebb",
   "metadata": {},
   "source": [
    "#### Ruin and recreate mutator function\n",
    "Generates a completely new timetable each time."
   ]
  },
  {
   "cell_type": "code",
   "execution_count": 133,
   "id": "6a28e95d",
   "metadata": {},
   "outputs": [],
   "source": [
    "def ruin_and_recreate(timetable):\n",
    "    timetable = generate_random_timetable(modules)\n",
    "    return timetable"
   ]
  },
  {
   "cell_type": "markdown",
   "id": "e7905fc9",
   "metadata": {},
   "source": [
    "#### Session Replace mutator function\n",
    "Swaps two randomly selected modules in a timetable"
   ]
  },
  {
   "cell_type": "code",
   "execution_count": 134,
   "id": "7bfba7ab",
   "metadata": {},
   "outputs": [],
   "source": [
    "def session_replace(timetable):\n",
    "    row = np.random.randint(0,20,2)\n",
    "    col = np.random.randint(0,3,2)\n",
    "    timetable[row[0]][col[0]], timetable[row[1]][col[1]] = timetable[row[1]][col[1]], timetable[row[0]][col[0]]\n",
    "    return timetable\n",
    "timetable = session_replace(timetable)"
   ]
  },
  {
   "cell_type": "markdown",
   "id": "54995377",
   "metadata": {},
   "source": [
    "## Hillclimber Function\n",
    "All the best fitnesses are stored in the fitness_list array and returned at the end of the function."
   ]
  },
  {
   "cell_type": "code",
   "execution_count": 135,
   "id": "4016ebdd",
   "metadata": {},
   "outputs": [],
   "source": [
    "def hillclimber(Niter, problem, data, generate, mutation, comparison):\n",
    "    parent = generate(data)\n",
    "    parent_fitness = problem(parent)\n",
    "    fitness_list = [parent_fitness]\n",
    "    \n",
    "    for i in range(Niter):\n",
    "        #Mutate\n",
    "        child = mutation(parent)\n",
    "        \n",
    "        #Evaluate\n",
    "        child_fitness = problem(child)\n",
    "        \n",
    "        #Pick next parent solution\n",
    "        if comparison(child_fitness,parent_fitness):\n",
    "            parent = child\n",
    "            parent_fitness = child_fitness\n",
    "            fitness_list.append(child_fitness)\n",
    "        else:\n",
    "            fitness_list.append(parent_fitness)\n",
    "            \n",
    "    return parent, fitness_list"
   ]
  },
  {
   "cell_type": "markdown",
   "id": "0c07384b",
   "metadata": {},
   "source": [
    "## Evaluation\n",
    "\n",
    "#### Running the hillclimber\n",
    "The hillclimber is run 30 times with 500 iterations each for each mutator and their fitness lists are stored in their own arrays."
   ]
  },
  {
   "cell_type": "code",
   "execution_count": 136,
   "id": "f3e0db85",
   "metadata": {},
   "outputs": [],
   "source": [
    "ruin_and_recreate_fitnesses = []\n",
    "session_replace_fitnesses = []\n",
    "for i in range(30):\n",
    "    optimised_timetable, fitnesslist = hillclimber(500,fitness,modulesWithLabs,generate_random_timetable,ruin_and_recreate,compare_fitness)\n",
    "    ruin_and_recreate_fitnesses.append(fitnesslist)\n",
    "    \n",
    "    optimised_timetable, fitnesslist = hillclimber(500,fitness,modulesWithLabs,generate_random_timetable,session_replace,compare_fitness)\n",
    "    session_replace_fitnesses.append(fitnesslist)"
   ]
  },
  {
   "cell_type": "markdown",
   "id": "2fa46562",
   "metadata": {},
   "source": [
    "## Visualisation\n",
    "\n",
    "#### Plotting min, max and average of fitnesses for each mutator."
   ]
  },
  {
   "cell_type": "code",
   "execution_count": 137,
   "id": "5e3525de",
   "metadata": {
    "scrolled": false
   },
   "outputs": [
    {
     "data": {
      "image/png": "[encoded data removed]",
      "text/plain": [
       "<Figure size 972x540 with 1 Axes>"
      ]
     },
     "metadata": {
      "needs_background": "light"
     },
     "output_type": "display_data"
    },
    {
     "name": "stdout",
     "output_type": "stream",
     "text": [
      "\n"
     ]
    }
   ],
   "source": [
    "# X-Axis values\n",
    "X = [i for i in range(1,502)]\n",
    "\n",
    "# Plotting the lines for the ruin operator, using numpy for easy iterations.\n",
    "ruin = np.array(ruin_and_recreate_fitnesses)\n",
    "ruinmaxlist = [max(ruin[:,i]) for i in range(501)]\n",
    "ruinavglist = [sum(ruin[:,i])/len(ruin[:,i]) for i in range(501)]\n",
    "ruinminlist = [min(ruin[:,i]) for i in range(501)]\n",
    "\n",
    "plt.plot(X,ruinmaxlist,color='cyan',linestyle='dashed',label=\"Maximum of ruin operator\")\n",
    "plt.plot(X,ruinavglist,color='cyan',linestyle=\"solid\",label=\"Average of ruin operator\")\n",
    "plt.plot(X,ruinminlist,color='cyan',linestyle=\"dotted\",label=\"Minimum of ruin operator\")\n",
    "\n",
    "# Plotting the lines for the swap operator, using numpy for easy iterations.\n",
    "swap = np.array(session_replace_fitnesses)\n",
    "swapmaxlist = [max(swap[:,i]) for i in range(501)]\n",
    "swapavglist = [sum(swap[:,i])/len(ruin[:,i]) for i in range(501)]\n",
    "swapminlist = [min(swap[:,i]) for i in range(501)]\n",
    "\n",
    "plt.plot(X,swapmaxlist,color='pink',linestyle=\"dashed\",label=\"Maximum of swap operator\")\n",
    "plt.plot(X,swapavglist,color='pink',linestyle=\"solid\",label=\"Average of swap operator\")\n",
    "plt.plot(X,swapminlist,color='pink',linestyle=\"dotted\",label=\"Minimum of swap operator\")\n",
    "\n",
    "    \n",
    "plt.rcParams[\"figure.figsize\"] = [13.50, 7.50]\n",
    "plt.rcParams[\"figure.autolayout\"] = True\n",
    "plt.legend(loc=\"upper right\")\n",
    "plt.xlabel('Iteration')\n",
    "plt.ylabel('Fitness value')\n",
    "plt.title(\"Fitness Comparison\")\n",
    "plt.show()\n",
    "print()"
   ]
  },
  {
   "cell_type": "markdown",
   "id": "36146ed0",
   "metadata": {},
   "source": [
    "## Conclusion\n",
    "\n",
    "From the graph above we can see that the ruin and recreate operator consistently shows lower maximum, average and minimum fitnesses than the swap operator. Thus we can safely assume that the ruin and recreate operator is the better mutation operator to use."
   ]
  }
 ],
 "metadata": {
  "kernelspec": {
   "display_name": "Python 3.9.7 ('AI')",
   "language": "python",
   "name": "python397jvsc74a57bd0137683caa416907d30bcde365237c7da4a153fd9d138b420acf67aa8422ad597"
  },
  "language_info": {
   "codemirror_mode": {
    "name": "ipython",
    "version": 3
   },
   "file_extension": ".py",
   "mimetype": "text/x-python",
   "name": "python",
   "nbconvert_exporter": "python",
   "pygments_lexer": "ipython3",
   "version": "3.9.7"
  }
 },
 "nbformat": 4,
 "nbformat_minor": 5
}
