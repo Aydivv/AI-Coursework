{
 "cells": [
  {
   "cell_type": "code",
   "execution_count": 1,
   "id": "6b3836d4",
   "metadata": {},
   "outputs": [],
   "source": [
    "import numpy as np"
   ]
  },
  {
   "cell_type": "code",
   "execution_count": 2,
   "id": "017d3495",
   "metadata": {},
   "outputs": [],
   "source": [
    "def onemax(x):\n",
    "    return x.sum()"
   ]
  },
  {
   "cell_type": "code",
   "execution_count": 3,
   "id": "4e248578",
   "metadata": {},
   "outputs": [],
   "source": [
    "def generate_binary(D):\n",
    "    #Generating binaries\n",
    "    return np.random.rand(10)"
   ]
  },
  {
   "cell_type": "code",
   "execution_count": 4,
   "id": "99c222ac",
   "metadata": {},
   "outputs": [],
   "source": [
    "def binary_mutation(parent):\n",
    "    idx = np.random.randint(parent.shape[0])\n",
    "    child = parent.copy()\n",
    "    child[idx] = abs(parent[idx]-1)\n",
    "    return child"
   ]
  },
  {
   "cell_type": "code",
   "execution_count": 5,
   "id": "2e98db53",
   "metadata": {},
   "outputs": [],
   "source": [
    "def sphere(x):\n",
    "    return (x**2).sum()"
   ]
  },
  {
   "cell_type": "code",
   "execution_count": 6,
   "id": "a384a830",
   "metadata": {},
   "outputs": [
    {
     "name": "stdout",
     "output_type": "stream",
     "text": [
      "Solution: [-1.21555084 -2.91290163 -0.0252125   0.68432877  0.19348889], fitness:10.468939222396257\n",
      "Solution: [ 0.16645175  1.65702376  0.24087412 -1.31780758 -0.47532131], fitness:4.794001460131932\n",
      "Solution: [ 1.62771757 -2.28910723  0.0965275  -2.5648369   2.8455981 ], fitness:22.574610810620364\n",
      "Solution: [ 0.67169703  0.01061976  2.6870486  -2.70315463 -0.70215326], fitness:15.471584005634346\n",
      "Solution: [-2.6119016   1.91442538 -2.77361255  0.69522401  0.16549232], fitness:18.690705192009762\n"
     ]
    }
   ],
   "source": [
    "def generate_continous(D):\n",
    "    #Generate a random continous solution with D decision vars\n",
    "    return np.random.uniform(-3,3,D)\n",
    "\n",
    "for i in range(5):\n",
    "    x = generate_continous(5)\n",
    "    y = sphere(x)\n",
    "    print(f\"Solution: {x}, fitness:{y}\")"
   ]
  },
  {
   "cell_type": "code",
   "execution_count": 7,
   "id": "4342dc79",
   "metadata": {},
   "outputs": [],
   "source": [
    "def additive_gaussian(parent):\n",
    "    z = np.random.randn() * 0.1\n",
    "    idx = np.random.randint(parent.shape[0])\n",
    "    child = parent.copy()\n",
    "    child[idx] = parent[idx] + z\n",
    "    return child"
   ]
  },
  {
   "cell_type": "code",
   "execution_count": 8,
   "id": "8c869448",
   "metadata": {},
   "outputs": [],
   "source": [
    "def less_than_or_equal(a,b):\n",
    "    return a<=b"
   ]
  },
  {
   "cell_type": "code",
   "execution_count": 9,
   "id": "a1922c5c",
   "metadata": {},
   "outputs": [],
   "source": [
    "def greater_than_or_equal(a,b):\n",
    "    return a >= b"
   ]
  },
  {
   "cell_type": "code",
   "execution_count": 10,
   "id": "b1a2477a",
   "metadata": {},
   "outputs": [],
   "source": [
    "def hillclimber(Niter, parent, D, generate, mutation, comparison):\n",
    "    #initialise a random solution\n",
    "    parent = generate_binary(D)\n",
    "    parent_fitness = problem(parent)\n",
    "\n",
    "    for iter in range(Niter):\n",
    "        child = mutation(parent)\n",
    "\n",
    "\n",
    "    child_fitness = problem(child)\n",
    "\n",
    "    if comparsion(child_fitness, parent_fitness):\n",
    "        parent = child\n",
    "        parent_fitness = child_fitness\n",
    "\n",
    "    return parent, parent_fitness\n"
   ]
  },
  {
   "cell_type": "code",
   "execution_count": 11,
   "id": "43bb26f5",
   "metadata": {},
   "outputs": [
    {
     "ename": "NameError",
     "evalue": "name 'problem' is not defined",
     "output_type": "error",
     "traceback": [
      "\u001b[0;31m---------------------------------------------------------------------------\u001b[0m",
      "\u001b[0;31mNameError\u001b[0m                                 Traceback (most recent call last)",
      "\u001b[0;32m/var/folders/sy/j76vsfks2k1fq_869kx00qdh0000gn/T/ipykernel_32211/3750573990.py\u001b[0m in \u001b[0;36m<module>\u001b[0;34m\u001b[0m\n\u001b[0;32m----> 1\u001b[0;31m \u001b[0mx\u001b[0m\u001b[0;34m,\u001b[0m \u001b[0my\u001b[0m \u001b[0;34m=\u001b[0m \u001b[0mhillclimber\u001b[0m\u001b[0;34m(\u001b[0m\u001b[0;36m30\u001b[0m\u001b[0;34m,\u001b[0m\u001b[0msphere\u001b[0m\u001b[0;34m,\u001b[0m\u001b[0;36m10\u001b[0m\u001b[0;34m,\u001b[0m\u001b[0mgenerate_continous\u001b[0m\u001b[0;34m,\u001b[0m\u001b[0madditive_gaussian\u001b[0m\u001b[0;34m,\u001b[0m \u001b[0mless_than_or_equal\u001b[0m\u001b[0;34m)\u001b[0m\u001b[0;34m\u001b[0m\u001b[0;34m\u001b[0m\u001b[0m\n\u001b[0m\u001b[1;32m      2\u001b[0m \u001b[0mprintf\u001b[0m\u001b[0;34m(\u001b[0m\u001b[0;34mf\"Solution{x}, fitness{y}\"\u001b[0m\u001b[0;34m)\u001b[0m\u001b[0;34m\u001b[0m\u001b[0;34m\u001b[0m\u001b[0m\n",
      "\u001b[0;32m/var/folders/sy/j76vsfks2k1fq_869kx00qdh0000gn/T/ipykernel_32211/3818339628.py\u001b[0m in \u001b[0;36mhillclimber\u001b[0;34m(Niter, parent, D, generate, mutation, comparison)\u001b[0m\n\u001b[1;32m      2\u001b[0m     \u001b[0;31m#initialise a random solution\u001b[0m\u001b[0;34m\u001b[0m\u001b[0;34m\u001b[0m\u001b[0m\n\u001b[1;32m      3\u001b[0m     \u001b[0mparent\u001b[0m \u001b[0;34m=\u001b[0m \u001b[0mgenerate_binary\u001b[0m\u001b[0;34m(\u001b[0m\u001b[0mD\u001b[0m\u001b[0;34m)\u001b[0m\u001b[0;34m\u001b[0m\u001b[0;34m\u001b[0m\u001b[0m\n\u001b[0;32m----> 4\u001b[0;31m     \u001b[0mparent_fitness\u001b[0m \u001b[0;34m=\u001b[0m \u001b[0mproblem\u001b[0m\u001b[0;34m(\u001b[0m\u001b[0mparent\u001b[0m\u001b[0;34m)\u001b[0m\u001b[0;34m\u001b[0m\u001b[0;34m\u001b[0m\u001b[0m\n\u001b[0m\u001b[1;32m      5\u001b[0m \u001b[0;34m\u001b[0m\u001b[0m\n\u001b[1;32m      6\u001b[0m     \u001b[0;32mfor\u001b[0m \u001b[0miter\u001b[0m \u001b[0;32min\u001b[0m \u001b[0mrange\u001b[0m\u001b[0;34m(\u001b[0m\u001b[0mNiter\u001b[0m\u001b[0;34m)\u001b[0m\u001b[0;34m:\u001b[0m\u001b[0;34m\u001b[0m\u001b[0;34m\u001b[0m\u001b[0m\n",
      "\u001b[0;31mNameError\u001b[0m: name 'problem' is not defined"
     ]
    }
   ],
   "source": [
    "x, y = hillclimber(30,sphere,10,generate_continous,additive_gaussian, less_than_or_equal)\n",
    "printf(f\"Solution{x}, fitness{y}\")"
   ]
  },
  {
   "cell_type": "code",
   "execution_count": null,
   "id": "285fc45e",
   "metadata": {},
   "outputs": [],
   "source": []
  }
 ],
 "metadata": {
  "kernelspec": {
   "display_name": "Python 3 (ipykernel)",
   "language": "python",
   "name": "python3"
  },
  "language_info": {
   "codemirror_mode": {
    "name": "ipython",
    "version": 3
   },
   "file_extension": ".py",
   "mimetype": "text/x-python",
   "name": "python",
   "nbconvert_exporter": "python",
   "pygments_lexer": "ipython3",
   "version": "3.9.7"
  }
 },
 "nbformat": 4,
 "nbformat_minor": 5
}
